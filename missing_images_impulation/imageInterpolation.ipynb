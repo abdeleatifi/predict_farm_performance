{
 "cells": [
  {
   "cell_type": "code",
   "execution_count": 1,
   "metadata": {},
   "outputs": [
    {
     "name": "stderr",
     "output_type": "stream",
     "text": [
      "C:\\Users\\abdel\\AppData\\Local\\Temp\\ipykernel_15520\\494414359.py:14: RuntimeWarning: overflow encountered in ubyte_scalars\n",
      "  interp_img[i, j] = (before_img[i, j] - after_img[i, j])\n"
     ]
    },
    {
     "data": {
      "text/plain": [
       "True"
      ]
     },
     "execution_count": 1,
     "metadata": {},
     "output_type": "execute_result"
    }
   ],
   "source": [
    "import cv2\n",
    "import numpy as np\n",
    "\n",
    "# read in the before, missing, and after images\n",
    "before_img = cv2.imread('before.jpg', cv2.IMREAD_GRAYSCALE)\n",
    "after_img = cv2.imread('after.jpg', cv2.IMREAD_GRAYSCALE)\n",
    "\n",
    "# create an empty image for the interpolated result\n",
    "interp_img = np.zeros_like(before_img)\n",
    "\n",
    "# iterate over each pixel in the missing image\n",
    "for i in range(before_img.shape[0]):\n",
    "    for j in range(before_img.shape[1]):\n",
    "        interp_img[i, j] = (before_img[i, j] - after_img[i, j])\n",
    "\n",
    "# save the interpolated image to a new file\n",
    "cv2.imwrite('interp.jpg', interp_img)"
   ]
  },
  {
   "cell_type": "code",
   "execution_count": 8,
   "metadata": {},
   "outputs": [
    {
     "data": {
      "text/plain": [
       "True"
      ]
     },
     "execution_count": 8,
     "metadata": {},
     "output_type": "execute_result"
    }
   ],
   "source": [
    "import cv2\n",
    "import numpy as np\n",
    "\n",
    "# read in the before, missing, and after images\n",
    "before_img = cv2.imread('before.jpg')\n",
    "after_img = cv2.imread('after.jpg')\n",
    "missing_img = cv2.imread('after.jpg')\n",
    "\n",
    "# create an empty image for the interpolated result\n",
    "interp_img = np.zeros_like(before_img)\n",
    "\n",
    "# iterate over each pixel in the missing image\n",
    "for i in range(before_img.shape[0]):\n",
    "    for j in range(before_img.shape[1]):\n",
    "        # check if the pixel is missing\n",
    "        if np.all(missing_img[i, j] == 0):\n",
    "            # estimate the pixel value using bicubic interpolation\n",
    "            interp_img[i, j] = cv2.resize(np.array([\n",
    "                [before_img[i-1, j-1], before_img[i-1, j], before_img[i-1, j+1]],\n",
    "                [before_img[i, j-1], before_img[i, j], before_img[i, j+1]],\n",
    "                [before_img[i+1, j-1], before_img[i+1, j], before_img[i+1, j+1]]\n",
    "            ]), (3, 3), interpolation=cv2.INTER_CUBIC)[1, 1]\n",
    "        else:\n",
    "            # copy the pixel value from the missing image\n",
    "            interp_img[i, j] = missing_img[i, j]\n",
    "\n",
    "# save the interpolated image to a new file\n",
    "cv2.imwrite('interp.jpg', interp_img)\n"
   ]
  },
  {
   "cell_type": "code",
   "execution_count": 1,
   "metadata": {},
   "outputs": [
    {
     "data": {
      "text/plain": [
       "True"
      ]
     },
     "execution_count": 1,
     "metadata": {},
     "output_type": "execute_result"
    }
   ],
   "source": [
    "import cv2\n",
    "\n",
    "# read in the time series of images\n",
    "img_before = cv2.imread('before.jpg')\n",
    "img_missing = cv2.imread('missing.jpg')\n",
    "img_after = cv2.imread('after.jpg')\n",
    "\n",
    "# apply bicubic interpolation to the missing image\n",
    "interp_img = cv2.resize(img_before, (img_missing.shape[1], img_missing.shape[0]), interpolation=cv2.INTER_CUBIC)\n",
    "\n",
    "# save the interpolated image to a new file\n",
    "cv2.imwrite('interp.jpg', interp_img)"
   ]
  },
  {
   "cell_type": "code",
   "execution_count": 4,
   "metadata": {},
   "outputs": [
    {
     "data": {
      "text/plain": [
       "True"
      ]
     },
     "execution_count": 4,
     "metadata": {},
     "output_type": "execute_result"
    }
   ],
   "source": [
    "import cv2\n",
    "import numpy as np\n",
    "\n",
    "# read in the before, missing, and after images\n",
    "before_img = cv2.imread('before.jpg', cv2.IMREAD_GRAYSCALE)\n",
    "after_img = cv2.imread('after.jpg', cv2.IMREAD_GRAYSCALE)\n",
    "\n",
    "# create an empty image for the interpolated result\n",
    "interp_img = np.zeros_like(before_img)\n",
    "\n",
    "# iterate over each pixel in the missing image\n",
    "for i in range(before_img.shape[0]):\n",
    "    for j in range(before_img.shape[1]):\n",
    "        # check if the pixel is missing\n",
    "        if before_img[i, j] == 0:\n",
    "            # estimate the pixel value using bicubic interpolation\n",
    "            interp_img[i, j] = cv2.resize(np.array([\n",
    "                [before_img[i-1, j-1], before_img[i-1, j], before_img[i-1, j+1], before_img[i-1, j+2]],\n",
    "                [before_img[i, j-1], before_img[i, j], before_img[i, j+1], before_img[i, j+2]],\n",
    "                [before_img[i+1, j-1], before_img[i+1, j], before_img[i+1, j+1], before_img[i+1, j+2]],\n",
    "                [before_img[i+2, j-1], before_img[i+2, j], before_img[i+2, j+1], before_img[i+2, j+2]]\n",
    "            ]), (3, 3), interpolation=cv2.INTER_CUBIC)[1, 1]\n",
    "        else:\n",
    "            # copy the pixel value from the missing image\n",
    "            interp_img[i, j] = before_img[i, j]\n",
    "\n",
    "# save the interpolated image to a new file\n",
    "cv2.imwrite('interp.jpg', interp_img)"
   ]
  },
  {
   "cell_type": "code",
   "execution_count": 5,
   "metadata": {},
   "outputs": [
    {
     "data": {
      "text/plain": [
       "True"
      ]
     },
     "execution_count": 5,
     "metadata": {},
     "output_type": "execute_result"
    }
   ],
   "source": [
    "import cv2\n",
    "import numpy as np\n",
    "\n",
    "# read in the before, missing, and after images\n",
    "before_img = cv2.imread('before.jpg')\n",
    "after_img = cv2.imread('after.jpg')\n",
    "\n",
    "# create an empty image for the interpolated result\n",
    "interp_img = np.zeros_like(before_img)\n",
    "\n",
    "# iterate over each pixel in the missing image\n",
    "for i in range(before_img.shape[0]):\n",
    "    for j in range(before_img.shape[1]):\n",
    "        # check if the pixel is missing\n",
    "        if np.all(before_img[i, j] == 0):\n",
    "            # estimate the pixel value using bicubic interpolation\n",
    "            interp_img[i, j] = cv2.resize(np.array([\n",
    "                [before_img[i-1, j-1], before_img[i-1, j], before_img[i-1, j+1], before_img[i-1, j+2]],\n",
    "                [before_img[i, j-1], before_img[i, j], before_img[i, j+1], before_img[i, j+2]],\n",
    "                [before_img[i+1, j-1], before_img[i+1, j], before_img[i+1, j+1], before_img[i+1, j+2]],\n",
    "                [before_img[i+2, j-1], before_img[i+2, j], before_img[i+2, j+1], before_img[i+2, j+2]]\n",
    "            ]), (3, 3), interpolation=cv2.INTER_CUBIC)[1, 1]\n",
    "        else:\n",
    "            # copy the pixel value from the missing image\n",
    "            interp_img[i, j] = before_img[i, j]\n",
    "\n",
    "# save the interpolated image to a new file\n",
    "cv2.imwrite('interp.jpg', interp_img)\n"
   ]
  },
  {
   "cell_type": "code",
   "execution_count": null,
   "metadata": {},
   "outputs": [],
   "source": [
    "import cv2\n",
    "\n",
    "# read in the time series of images\n",
    "img_before = cv2.imread('before.jpg')\n",
    "img_after = cv2.imread('after.jpg')\n",
    "\n",
    "# apply linear interpolation to the missing image\n",
    "interp_img = cv2.addWeighted(img_before, 0.5, img_after, 0.5, 0)\n",
    "\n",
    "# save the interpolated image to a new file\n",
    "cv2.imwrite('interp.jpg', interp_img)"
   ]
  }
 ],
 "metadata": {
  "kernelspec": {
   "display_name": "abtest",
   "language": "python",
   "name": "python3"
  },
  "language_info": {
   "codemirror_mode": {
    "name": "ipython",
    "version": 3
   },
   "file_extension": ".py",
   "mimetype": "text/x-python",
   "name": "python",
   "nbconvert_exporter": "python",
   "pygments_lexer": "ipython3",
   "version": "3.10.10"
  },
  "orig_nbformat": 4
 },
 "nbformat": 4,
 "nbformat_minor": 2
}
