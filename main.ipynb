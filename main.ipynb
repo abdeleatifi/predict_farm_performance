{
 "cells": [
  {
   "cell_type": "code",
   "execution_count": 1,
   "metadata": {},
   "outputs": [
    {
     "name": "stdout",
     "output_type": "stream",
     "text": [
      "This notebook was built with:\n",
      "python version: 3.9.16 (main, Mar  8 2023, 10:39:24) [MSC v.1916 64 bit (AMD64)] \n",
      "PCSE version: 5.5.5\n"
     ]
    }
   ],
   "source": [
    "import yaml\n",
    "\n",
    "%matplotlib inline\n",
    "import sys, os\n",
    "import matplotlib\n",
    "matplotlib.style.use(\"ggplot\")\n",
    "import matplotlib.pyplot as plt\n",
    "import pandas as pd\n",
    "\n",
    "data_dir = os.path.join(os.getcwd(), \"data\")\n",
    "import pcse\n",
    "from pcse.models import Wofost72_PP\n",
    "from pcse.base import ParameterProvider\n",
    "from pcse.db import NASAPowerWeatherDataProvider\n",
    "from pcse.fileinput import YAMLCropDataProvider\n",
    "from pcse.util import WOFOST72SiteDataProvider, DummySoilDataProvider\n",
    "from progressbar import printProgressBar\n",
    "\n",
    "print(\"This notebook was built with:\")\n",
    "print(\"python version: %s \" % sys.version)\n",
    "print(\"PCSE version: %s\" %  pcse.__version__)\n",
    "\n",
    "from datetime import datetime\n",
    "import matplotlib.pyplot as plt\n",
    "from meteostat import Point, Daily, Stations"
   ]
  },
  {
   "cell_type": "code",
   "execution_count": 2,
   "metadata": {},
   "outputs": [],
   "source": [
    "# Define location, crop and season\n",
    "latitude = 32.108136\n",
    "longitude = -7.842794\n",
    "crop_name = 'wheat'\n",
    "variety_name = 'Winter_wheat_101'\n",
    "campaign_start_date = '2022-01-01'\n",
    "emergence_date = \"2022-03-31\"\n",
    "harvest_date = \"2022-10-20\"\n",
    "max_duration = 300"
   ]
  },
  {
   "cell_type": "code",
   "execution_count": 3,
   "metadata": {},
   "outputs": [
    {
     "name": "stdout",
     "output_type": "stream",
     "text": [
      "\n",
      "- 2022-01-01:\n",
      "    CropCalendar:\n",
      "        crop_name: wheat\n",
      "        variety_name: Winter_wheat_101\n",
      "        crop_start_date: 2022-03-31\n",
      "        crop_start_type: emergence\n",
      "        crop_end_date: 2022-10-20\n",
      "        crop_end_type: harvest\n",
      "        max_duration: 300\n",
      "    TimedEvents: null\n",
      "    StateEvents: null\n",
      "\n"
     ]
    }
   ],
   "source": [
    "# Here we define the agromanagement for sugar beet\n",
    "agro_yaml = \"\"\"\n",
    "- {start}:\n",
    "    CropCalendar:\n",
    "        crop_name: {cname}\n",
    "        variety_name: {vname}\n",
    "        crop_start_date: {startdate}\n",
    "        crop_start_type: emergence\n",
    "        crop_end_date: {enddate}\n",
    "        crop_end_type: harvest\n",
    "        max_duration: {maxdur}\n",
    "    TimedEvents: null\n",
    "    StateEvents: null\n",
    "\"\"\".format(cname=crop_name, vname=variety_name, \n",
    "           start=campaign_start_date, startdate=emergence_date, \n",
    "           enddate=harvest_date, maxdur=max_duration)\n",
    "agro = yaml.safe_load(agro_yaml)\n",
    "print(agro_yaml)"
   ]
  },
  {
   "cell_type": "code",
   "execution_count": 4,
   "metadata": {},
   "outputs": [],
   "source": [
    "# Weather data for Netherlands\n",
    "wdp = NASAPowerWeatherDataProvider(latitude=latitude, longitude=longitude)\n",
    "\n",
    "# Parameter sets for crop, soil and site\n",
    "# Standard crop parameter library\n",
    "cropd = YAMLCropDataProvider()\n",
    "\n",
    "# We don't need soil for potential production, so we use dummy values\n",
    "soild = DummySoilDataProvider()\n",
    "# Some site parameters\n",
    "sited = WOFOST72SiteDataProvider(WAV=50)\n",
    "\n",
    "# Retrieve all parameters in the form of a single object. \n",
    "# In order to see all parameters for the selected crop already, we\n",
    "# synchronise data provider cropd with the crop/variety: \n",
    "firstkey = list(agro[0])[0]\n",
    "cropcalendar = agro[0][firstkey]['CropCalendar'] \n",
    "cropd.set_active_crop(cropcalendar['crop_name'], cropcalendar['variety_name'])\n",
    "params = ParameterProvider(cropdata=cropd, sitedata=sited, soildata=soild)"
   ]
  },
  {
   "cell_type": "code",
   "execution_count": 5,
   "metadata": {},
   "outputs": [
    {
     "data": {
      "text/html": [
       "<div>\n",
       "<style scoped>\n",
       "    .dataframe tbody tr th:only-of-type {\n",
       "        vertical-align: middle;\n",
       "    }\n",
       "\n",
       "    .dataframe tbody tr th {\n",
       "        vertical-align: top;\n",
       "    }\n",
       "\n",
       "    .dataframe thead th {\n",
       "        text-align: right;\n",
       "    }\n",
       "</style>\n",
       "<table border=\"1\" class=\"dataframe\">\n",
       "  <thead>\n",
       "    <tr style=\"text-align: right;\">\n",
       "      <th></th>\n",
       "      <th>DVS</th>\n",
       "      <th>LAIMAX</th>\n",
       "      <th>TAGP</th>\n",
       "      <th>TWSO</th>\n",
       "      <th>TWLV</th>\n",
       "      <th>TWST</th>\n",
       "      <th>TWRT</th>\n",
       "      <th>CTRAT</th>\n",
       "      <th>RD</th>\n",
       "      <th>DOS</th>\n",
       "      <th>DOE</th>\n",
       "      <th>DOA</th>\n",
       "      <th>DOM</th>\n",
       "      <th>DOH</th>\n",
       "      <th>DOV</th>\n",
       "      <th>CEVST</th>\n",
       "    </tr>\n",
       "  </thead>\n",
       "  <tbody>\n",
       "    <tr>\n",
       "      <th>0</th>\n",
       "      <td>0.0</td>\n",
       "      <td>5.089172</td>\n",
       "      <td>5097.160306</td>\n",
       "      <td>0.0</td>\n",
       "      <td>3313.154199</td>\n",
       "      <td>1784.006107</td>\n",
       "      <td>5097.160306</td>\n",
       "      <td>59.318003</td>\n",
       "      <td>120.0</td>\n",
       "      <td>None</td>\n",
       "      <td>2022-03-31</td>\n",
       "      <td>None</td>\n",
       "      <td>None</td>\n",
       "      <td>2022-10-20</td>\n",
       "      <td>None</td>\n",
       "      <td>10.291135</td>\n",
       "    </tr>\n",
       "  </tbody>\n",
       "</table>\n",
       "</div>"
      ],
      "text/plain": [
       "   DVS    LAIMAX         TAGP  TWSO         TWLV         TWST         TWRT  \\\n",
       "0  0.0  5.089172  5097.160306   0.0  3313.154199  1784.006107  5097.160306   \n",
       "\n",
       "       CTRAT     RD   DOS         DOE   DOA   DOM         DOH   DOV      CEVST  \n",
       "0  59.318003  120.0  None  2022-03-31  None  None  2022-10-20  None  10.291135  "
      ]
     },
     "execution_count": 5,
     "metadata": {},
     "output_type": "execute_result"
    }
   ],
   "source": [
    "wofost = Wofost72_PP(params, wdp, agro)\n",
    "wofost.run_till_terminate()\n",
    "\n",
    "df_results = pd.DataFrame(wofost.get_summary_output())\n",
    "#df_results = df_results.set_index(\"day\")\n",
    "df_results.tail()"
   ]
  },
  {
   "cell_type": "code",
   "execution_count": 29,
   "metadata": {},
   "outputs": [
    {
     "data": {
      "text/html": [
       "<div>\n",
       "<style scoped>\n",
       "    .dataframe tbody tr th:only-of-type {\n",
       "        vertical-align: middle;\n",
       "    }\n",
       "\n",
       "    .dataframe tbody tr th {\n",
       "        vertical-align: top;\n",
       "    }\n",
       "\n",
       "    .dataframe thead th {\n",
       "        text-align: right;\n",
       "    }\n",
       "</style>\n",
       "<table border=\"1\" class=\"dataframe\">\n",
       "  <thead>\n",
       "    <tr style=\"text-align: right;\">\n",
       "      <th></th>\n",
       "      <th>DVS</th>\n",
       "      <th>LAI</th>\n",
       "      <th>TAGP</th>\n",
       "      <th>TWSO</th>\n",
       "      <th>TWLV</th>\n",
       "      <th>TWST</th>\n",
       "      <th>TWRT</th>\n",
       "      <th>TRA</th>\n",
       "      <th>RD</th>\n",
       "      <th>SM</th>\n",
       "      <th>WWLOW</th>\n",
       "    </tr>\n",
       "    <tr>\n",
       "      <th>day</th>\n",
       "      <th></th>\n",
       "      <th></th>\n",
       "      <th></th>\n",
       "      <th></th>\n",
       "      <th></th>\n",
       "      <th></th>\n",
       "      <th></th>\n",
       "      <th></th>\n",
       "      <th></th>\n",
       "      <th></th>\n",
       "      <th></th>\n",
       "    </tr>\n",
       "  </thead>\n",
       "  <tbody>\n",
       "    <tr>\n",
       "      <th>2022-10-16</th>\n",
       "      <td>0.0</td>\n",
       "      <td>0.0</td>\n",
       "      <td>5097.160306</td>\n",
       "      <td>0.0</td>\n",
       "      <td>3313.154199</td>\n",
       "      <td>1784.006107</td>\n",
       "      <td>5097.160306</td>\n",
       "      <td>0.0</td>\n",
       "      <td>120.0</td>\n",
       "      <td>0.3</td>\n",
       "      <td>None</td>\n",
       "    </tr>\n",
       "    <tr>\n",
       "      <th>2022-10-17</th>\n",
       "      <td>0.0</td>\n",
       "      <td>0.0</td>\n",
       "      <td>5097.160306</td>\n",
       "      <td>0.0</td>\n",
       "      <td>3313.154199</td>\n",
       "      <td>1784.006107</td>\n",
       "      <td>5097.160306</td>\n",
       "      <td>0.0</td>\n",
       "      <td>120.0</td>\n",
       "      <td>0.3</td>\n",
       "      <td>None</td>\n",
       "    </tr>\n",
       "    <tr>\n",
       "      <th>2022-10-18</th>\n",
       "      <td>0.0</td>\n",
       "      <td>0.0</td>\n",
       "      <td>5097.160306</td>\n",
       "      <td>0.0</td>\n",
       "      <td>3313.154199</td>\n",
       "      <td>1784.006107</td>\n",
       "      <td>5097.160306</td>\n",
       "      <td>0.0</td>\n",
       "      <td>120.0</td>\n",
       "      <td>0.3</td>\n",
       "      <td>None</td>\n",
       "    </tr>\n",
       "    <tr>\n",
       "      <th>2022-10-19</th>\n",
       "      <td>0.0</td>\n",
       "      <td>0.0</td>\n",
       "      <td>5097.160306</td>\n",
       "      <td>0.0</td>\n",
       "      <td>3313.154199</td>\n",
       "      <td>1784.006107</td>\n",
       "      <td>5097.160306</td>\n",
       "      <td>0.0</td>\n",
       "      <td>120.0</td>\n",
       "      <td>0.3</td>\n",
       "      <td>None</td>\n",
       "    </tr>\n",
       "    <tr>\n",
       "      <th>2022-10-20</th>\n",
       "      <td>0.0</td>\n",
       "      <td>0.0</td>\n",
       "      <td>5097.160306</td>\n",
       "      <td>0.0</td>\n",
       "      <td>3313.154199</td>\n",
       "      <td>1784.006107</td>\n",
       "      <td>5097.160306</td>\n",
       "      <td>0.0</td>\n",
       "      <td>120.0</td>\n",
       "      <td>0.3</td>\n",
       "      <td>None</td>\n",
       "    </tr>\n",
       "  </tbody>\n",
       "</table>\n",
       "</div>"
      ],
      "text/plain": [
       "            DVS  LAI         TAGP  TWSO         TWLV         TWST  \\\n",
       "day                                                                 \n",
       "2022-10-16  0.0  0.0  5097.160306   0.0  3313.154199  1784.006107   \n",
       "2022-10-17  0.0  0.0  5097.160306   0.0  3313.154199  1784.006107   \n",
       "2022-10-18  0.0  0.0  5097.160306   0.0  3313.154199  1784.006107   \n",
       "2022-10-19  0.0  0.0  5097.160306   0.0  3313.154199  1784.006107   \n",
       "2022-10-20  0.0  0.0  5097.160306   0.0  3313.154199  1784.006107   \n",
       "\n",
       "                   TWRT  TRA     RD   SM WWLOW  \n",
       "day                                             \n",
       "2022-10-16  5097.160306  0.0  120.0  0.3  None  \n",
       "2022-10-17  5097.160306  0.0  120.0  0.3  None  \n",
       "2022-10-18  5097.160306  0.0  120.0  0.3  None  \n",
       "2022-10-19  5097.160306  0.0  120.0  0.3  None  \n",
       "2022-10-20  5097.160306  0.0  120.0  0.3  None  "
      ]
     },
     "execution_count": 29,
     "metadata": {},
     "output_type": "execute_result"
    }
   ],
   "source": [
    "df_results_out = pd.DataFrame(wofost.get_output())\n",
    "df_results_out = df_results_out.set_index(\"day\")\n",
    "df_results_out.tail()"
   ]
  },
  {
   "cell_type": "code",
   "execution_count": 12,
   "metadata": {},
   "outputs": [],
   "source": [
    "from pcse.fileinput import CABOFileReader\n",
    "\n",
    "cropfile = os.path.join(data_dir, 'crop', 'SUG0601.crop')\n",
    "cropd = CABOFileReader(cropfile)"
   ]
  },
  {
   "cell_type": "code",
   "execution_count": 4,
   "metadata": {},
   "outputs": [],
   "source": [
    "soilfile = os.path.join(data_dir, 'soil', 'ec3.soil')\n",
    "soild = CABOFileReader(soilfile)"
   ]
  },
  {
   "cell_type": "code",
   "execution_count": 5,
   "metadata": {},
   "outputs": [
    {
     "name": "stdout",
     "output_type": "stream",
     "text": [
      "Unknown parameter values provided to WOFOSTSiteDataProvider: {'CO2': 360}\n",
      "{'IFUNRN': 0, 'NOTINF': 0, 'SSI': 0.0, 'SSMAX': 0.0, 'WAV': 10.0, 'SMLIM': 0.4}\n"
     ]
    }
   ],
   "source": [
    "from pcse.util import WOFOST72SiteDataProvider\n",
    "sited = WOFOST72SiteDataProvider(WAV=10, CO2=360)\n",
    "print(sited)"
   ]
  },
  {
   "cell_type": "code",
   "execution_count": 13,
   "metadata": {},
   "outputs": [],
   "source": [
    "from pcse.base import ParameterProvider\n",
    "parameters = ParameterProvider(cropdata=cropd, soildata=soild, sitedata=sited)"
   ]
  },
  {
   "cell_type": "code",
   "execution_count": 7,
   "metadata": {},
   "outputs": [
    {
     "name": "stdout",
     "output_type": "stream",
     "text": [
      "!!python/object/new:pcse.fileinput.yaml_agro_loader.YAMLAgroManagementReader\n",
      "listitems:\n",
      "- 2006-01-01:\n",
      "    CropCalendar:\n",
      "      crop_end_date: 2006-10-20\n",
      "      crop_end_type: harvest\n",
      "      crop_name: sugar-beet\n",
      "      crop_start_date: 2006-04-05\n",
      "      crop_start_type: emergence\n",
      "      max_duration: 300\n",
      "      variety_name: sugar-beet-601\n",
      "    StateEvents: null\n",
      "    TimedEvents: null\n",
      "\n"
     ]
    }
   ],
   "source": [
    "from pcse.fileinput import YAMLAgroManagementReader\n",
    "agromanagement_file = os.path.join(data_dir, 'agro', 'sugarbeet_calendar.agro')\n",
    "agromanagement = YAMLAgroManagementReader(agromanagement_file)\n",
    "print(agromanagement)"
   ]
  },
  {
   "cell_type": "code",
   "execution_count": 6,
   "metadata": {},
   "outputs": [
    {
     "ename": "ValueError",
     "evalue": "not enough values to unpack (expected 2, got 1)",
     "output_type": "error",
     "traceback": [
      "\u001b[1;31m---------------------------------------------------------------------------\u001b[0m",
      "\u001b[1;31mValueError\u001b[0m                                Traceback (most recent call last)",
      "Cell \u001b[1;32mIn[6], line 3\u001b[0m\n\u001b[0;32m      1\u001b[0m \u001b[39mfrom\u001b[39;00m \u001b[39mpcse\u001b[39;00m\u001b[39m.\u001b[39;00m\u001b[39mfileinput\u001b[39;00m \u001b[39mimport\u001b[39;00m CSVWeatherDataProvider\n\u001b[0;32m      2\u001b[0m weatherfile \u001b[39m=\u001b[39m os\u001b[39m.\u001b[39mpath\u001b[39m.\u001b[39mjoin(data_dir, \u001b[39m'\u001b[39m\u001b[39mmeteo\u001b[39m\u001b[39m'\u001b[39m, \u001b[39m'\u001b[39m\u001b[39mwdata.csv\u001b[39m\u001b[39m'\u001b[39m)\n\u001b[1;32m----> 3\u001b[0m wdp \u001b[39m=\u001b[39m CSVWeatherDataProvider(weatherfile)\n\u001b[0;32m      4\u001b[0m \u001b[39mprint\u001b[39m(wdp)\n",
      "File \u001b[1;32mc:\\Users\\abdel\\anaconda3\\envs\\abtest\\lib\\site-packages\\pcse\\fileinput\\csvweatherdataprovider.py:157\u001b[0m, in \u001b[0;36mCSVWeatherDataProvider.__init__\u001b[1;34m(self, csv_fname, delimiter, dateformat, ETmodel, force_reload)\u001b[0m\n\u001b[0;32m    155\u001b[0m \u001b[39mwith\u001b[39;00m \u001b[39mopen\u001b[39m(csv_fname, \u001b[39m'\u001b[39m\u001b[39mr\u001b[39m\u001b[39m'\u001b[39m) \u001b[39mas\u001b[39;00m csv_file:\n\u001b[0;32m    156\u001b[0m     csv_file\u001b[39m.\u001b[39mreadline()  \u001b[39m# Skip first line\u001b[39;00m\n\u001b[1;32m--> 157\u001b[0m     \u001b[39mself\u001b[39;49m\u001b[39m.\u001b[39;49m_read_meta(csv_file)\n\u001b[0;32m    158\u001b[0m     \u001b[39mself\u001b[39m\u001b[39m.\u001b[39m_read_observations(csv_file, delimiter)\n\u001b[0;32m    159\u001b[0m \u001b[39mself\u001b[39m\u001b[39m.\u001b[39m_write_cache_file(\u001b[39mself\u001b[39m\u001b[39m.\u001b[39mfp_csv_fname)\n",
      "File \u001b[1;32mc:\\Users\\abdel\\anaconda3\\envs\\abtest\\lib\\site-packages\\pcse\\fileinput\\csvweatherdataprovider.py:168\u001b[0m, in \u001b[0;36mCSVWeatherDataProvider._read_meta\u001b[1;34m(self, csv_file)\u001b[0m\n\u001b[0;32m    166\u001b[0m     statements \u001b[39m=\u001b[39m line\u001b[39m.\u001b[39msplit(\u001b[39m'\u001b[39m\u001b[39m;\u001b[39m\u001b[39m'\u001b[39m)\n\u001b[0;32m    167\u001b[0m     \u001b[39mfor\u001b[39;00m stmt \u001b[39min\u001b[39;00m statements:\n\u001b[1;32m--> 168\u001b[0m         key, val \u001b[39m=\u001b[39m stmt\u001b[39m.\u001b[39msplit(\u001b[39m'\u001b[39m\u001b[39m=\u001b[39m\u001b[39m'\u001b[39m)\n\u001b[0;32m    169\u001b[0m         header[key\u001b[39m.\u001b[39mstrip()] \u001b[39m=\u001b[39m literal_eval(val\u001b[39m.\u001b[39mstrip())\n\u001b[0;32m    171\u001b[0m \u001b[39mself\u001b[39m\u001b[39m.\u001b[39mnodata_value \u001b[39m=\u001b[39m \u001b[39m-\u001b[39m\u001b[39m99\u001b[39m\n",
      "\u001b[1;31mValueError\u001b[0m: not enough values to unpack (expected 2, got 1)"
     ]
    }
   ],
   "source": [
    "from pcse.fileinput import CSVWeatherDataProvider\n",
    "weatherfile = os.path.join(data_dir, 'meteo', 'wdata.csv')\n",
    "wdp = CSVWeatherDataProvider(weatherfile)\n",
    "print(wdp)"
   ]
  },
  {
   "cell_type": "code",
   "execution_count": null,
   "metadata": {},
   "outputs": [],
   "source": [
    "from pcse.fileinput import ExcelWeatherDataProvider\n",
    "weatherfile = os.path.join(data_dir, 'meteo', 'wdata.xlsx')\n",
    "wdp = ExcelWeatherDataProvider(weatherfile)\n",
    "print(wdp)"
   ]
  },
  {
   "cell_type": "code",
   "execution_count": 32,
   "metadata": {},
   "outputs": [
    {
     "ename": "TraitError",
     "evalue": "The 'weatherdataprovider' trait of a Wofost72_WLP_FD instance expected a WeatherDataProvider or None, not the DataFrame             tavg  tmin  tmax  prcp  snow   wdir  wspd  wpgt    pres  tsun\ntime                                                                     \n2020-01-01   9.4   6.8  12.0   0.0   0.0  245.0  19.1  68.0  1006.1   NaN\n2020-01-02   5.0   3.1   6.8   0.6   0.0   85.0  18.5  61.0  1016.9   NaN\n2020-01-03   7.6   4.4  10.8   4.9   0.0  123.0  28.5  55.0  1007.5   NaN\n2020-01-04   7.3   5.6   8.9   2.5   0.0  185.0  21.8  54.0  1019.3   NaN\n2020-01-05   5.2   3.3   7.0   1.4   0.0  137.0  23.5  72.0  1021.6   NaN\n...          ...   ...   ...   ...   ...    ...   ...   ...     ...   ...\n2020-12-27   6.2   5.6   6.9   5.8   0.0   71.0  10.8   NaN  1019.1   NaN\n2020-12-28   5.4   4.1   6.6   1.3   0.0  314.0  13.1  39.0  1020.9   NaN\n2020-12-29   4.3   3.2   5.4   7.1   0.0   83.0  12.3  32.0  1023.9   NaN\n2020-12-30   5.2   3.7   6.7  39.8   0.0   78.0  25.6  48.0  1009.7   NaN\n2020-12-31   6.0   4.7   7.3   9.7   0.0   81.0  10.9  33.0  1015.2   NaN\n\n[366 rows x 10 columns].",
     "output_type": "error",
     "traceback": [
      "\u001b[1;31m---------------------------------------------------------------------------\u001b[0m",
      "\u001b[1;31mTraitError\u001b[0m                                Traceback (most recent call last)",
      "Cell \u001b[1;32mIn[32], line 2\u001b[0m\n\u001b[0;32m      1\u001b[0m \u001b[39mfrom\u001b[39;00m \u001b[39mpcse\u001b[39;00m\u001b[39m.\u001b[39;00m\u001b[39mmodels\u001b[39;00m \u001b[39mimport\u001b[39;00m Wofost72_WLP_FD, Wofost72_PP\n\u001b[1;32m----> 2\u001b[0m wofsim \u001b[39m=\u001b[39m Wofost72_WLP_FD(parameters, data, agromanagement)\n",
      "File \u001b[1;32mc:\\Users\\abdel\\anaconda3\\envs\\abtest\\lib\\site-packages\\pcse\\models.py:32\u001b[0m, in \u001b[0;36mWofost72_WLP_FD.__init__\u001b[1;34m(self, parameterprovider, weatherdataprovider, agromanagement)\u001b[0m\n\u001b[0;32m     31\u001b[0m \u001b[39mdef\u001b[39;00m \u001b[39m__init__\u001b[39m(\u001b[39mself\u001b[39m, parameterprovider, weatherdataprovider, agromanagement):\n\u001b[1;32m---> 32\u001b[0m     Engine\u001b[39m.\u001b[39;49m\u001b[39m__init__\u001b[39;49m(\u001b[39mself\u001b[39;49m, parameterprovider, weatherdataprovider, agromanagement,\n\u001b[0;32m     33\u001b[0m                     config\u001b[39m=\u001b[39;49m\u001b[39mself\u001b[39;49m\u001b[39m.\u001b[39;49mconfig)\n",
      "File \u001b[1;32mc:\\Users\\abdel\\anaconda3\\envs\\abtest\\lib\\site-packages\\pcse\\engine.py:146\u001b[0m, in \u001b[0;36mEngine.__init__\u001b[1;34m(self, parameterprovider, weatherdataprovider, agromanagement, config)\u001b[0m\n\u001b[0;32m    143\u001b[0m \u001b[39mself\u001b[39m\u001b[39m.\u001b[39mday, delt \u001b[39m=\u001b[39m \u001b[39mself\u001b[39m\u001b[39m.\u001b[39mtimer()\n\u001b[0;32m    145\u001b[0m \u001b[39m# Driving variables\u001b[39;00m\n\u001b[1;32m--> 146\u001b[0m \u001b[39mself\u001b[39m\u001b[39m.\u001b[39mweatherdataprovider \u001b[39m=\u001b[39m weatherdataprovider\n\u001b[0;32m    147\u001b[0m \u001b[39mself\u001b[39m\u001b[39m.\u001b[39mdrv \u001b[39m=\u001b[39m \u001b[39mself\u001b[39m\u001b[39m.\u001b[39m_get_driving_variables(\u001b[39mself\u001b[39m\u001b[39m.\u001b[39mday)\n\u001b[0;32m    149\u001b[0m \u001b[39m# Component for simulation of soil processes\u001b[39;00m\n",
      "File \u001b[1;32mc:\\Users\\abdel\\anaconda3\\envs\\abtest\\lib\\site-packages\\pcse\\base\\engine.py:50\u001b[0m, in \u001b[0;36mBaseEngine.__setattr__\u001b[1;34m(self, attr, value)\u001b[0m\n\u001b[0;32m     48\u001b[0m     HasTraits\u001b[39m.\u001b[39m\u001b[39m__setattr__\u001b[39m(\u001b[39mself\u001b[39m, attr, value)\n\u001b[0;32m     49\u001b[0m \u001b[39melif\u001b[39;00m \u001b[39mhasattr\u001b[39m(\u001b[39mself\u001b[39m, attr):\n\u001b[1;32m---> 50\u001b[0m     HasTraits\u001b[39m.\u001b[39;49m\u001b[39m__setattr__\u001b[39;49m(\u001b[39mself\u001b[39;49m, attr, value)\n\u001b[0;32m     51\u001b[0m \u001b[39melse\u001b[39;00m:\n\u001b[0;32m     52\u001b[0m     msg \u001b[39m=\u001b[39m \u001b[39m\"\u001b[39m\u001b[39mAssignment to non-existing attribute \u001b[39m\u001b[39m'\u001b[39m\u001b[39m%s\u001b[39;00m\u001b[39m'\u001b[39m\u001b[39m prevented.\u001b[39m\u001b[39m\"\u001b[39m \u001b[39m%\u001b[39m attr\n",
      "File \u001b[1;32mc:\\Users\\abdel\\anaconda3\\envs\\abtest\\lib\\site-packages\\traitlets_pcse\\traitlets.py:594\u001b[0m, in \u001b[0;36mTraitType.__set__\u001b[1;34m(self, obj, value)\u001b[0m\n\u001b[0;32m    592\u001b[0m     \u001b[39mraise\u001b[39;00m TraitError(\u001b[39m'\u001b[39m\u001b[39mThe \u001b[39m\u001b[39m\"\u001b[39m\u001b[39m%s\u001b[39;00m\u001b[39m\"\u001b[39m\u001b[39m trait is read-only.\u001b[39m\u001b[39m'\u001b[39m \u001b[39m%\u001b[39m \u001b[39mself\u001b[39m\u001b[39m.\u001b[39mname)\n\u001b[0;32m    593\u001b[0m \u001b[39melse\u001b[39;00m:\n\u001b[1;32m--> 594\u001b[0m     \u001b[39mself\u001b[39;49m\u001b[39m.\u001b[39;49mset(obj, value)\n",
      "File \u001b[1;32mc:\\Users\\abdel\\anaconda3\\envs\\abtest\\lib\\site-packages\\traitlets_pcse\\traitlets.py:559\u001b[0m, in \u001b[0;36mTraitType.set\u001b[1;34m(self, obj, value)\u001b[0m\n\u001b[0;32m    558\u001b[0m \u001b[39mdef\u001b[39;00m \u001b[39mset\u001b[39m(\u001b[39mself\u001b[39m, obj, value):\n\u001b[1;32m--> 559\u001b[0m     new_value \u001b[39m=\u001b[39m \u001b[39mself\u001b[39;49m\u001b[39m.\u001b[39;49m_validate(obj, value)\n\u001b[0;32m    560\u001b[0m     \u001b[39mtry\u001b[39;00m:\n\u001b[0;32m    561\u001b[0m         old_value \u001b[39m=\u001b[39m obj\u001b[39m.\u001b[39m_trait_values[\u001b[39mself\u001b[39m\u001b[39m.\u001b[39mname]\n",
      "File \u001b[1;32mc:\\Users\\abdel\\anaconda3\\envs\\abtest\\lib\\site-packages\\traitlets_pcse\\traitlets.py:600\u001b[0m, in \u001b[0;36mTraitType._validate\u001b[1;34m(self, obj, value)\u001b[0m\n\u001b[0;32m    598\u001b[0m     \u001b[39mreturn\u001b[39;00m value\n\u001b[0;32m    599\u001b[0m \u001b[39mif\u001b[39;00m \u001b[39mhasattr\u001b[39m(\u001b[39mself\u001b[39m, \u001b[39m'\u001b[39m\u001b[39mvalidate\u001b[39m\u001b[39m'\u001b[39m):\n\u001b[1;32m--> 600\u001b[0m     value \u001b[39m=\u001b[39m \u001b[39mself\u001b[39;49m\u001b[39m.\u001b[39;49mvalidate(obj, value)\n\u001b[0;32m    601\u001b[0m \u001b[39mif\u001b[39;00m obj\u001b[39m.\u001b[39m_cross_validation_lock \u001b[39mis\u001b[39;00m \u001b[39mFalse\u001b[39;00m:\n\u001b[0;32m    602\u001b[0m     value \u001b[39m=\u001b[39m \u001b[39mself\u001b[39m\u001b[39m.\u001b[39m_cross_validate(obj, value)\n",
      "File \u001b[1;32mc:\\Users\\abdel\\anaconda3\\envs\\abtest\\lib\\site-packages\\traitlets_pcse\\traitlets.py:1829\u001b[0m, in \u001b[0;36mInstance.validate\u001b[1;34m(self, obj, value)\u001b[0m\n\u001b[0;32m   1827\u001b[0m     \u001b[39mreturn\u001b[39;00m value\n\u001b[0;32m   1828\u001b[0m \u001b[39melse\u001b[39;00m:\n\u001b[1;32m-> 1829\u001b[0m     \u001b[39mself\u001b[39;49m\u001b[39m.\u001b[39;49merror(obj, value)\n",
      "File \u001b[1;32mc:\\Users\\abdel\\anaconda3\\envs\\abtest\\lib\\site-packages\\traitlets_pcse\\traitlets.py:680\u001b[0m, in \u001b[0;36mTraitType.error\u001b[1;34m(self, obj, value, error, info)\u001b[0m\n\u001b[0;32m    677\u001b[0m \u001b[39melse\u001b[39;00m:\n\u001b[0;32m    678\u001b[0m     e \u001b[39m=\u001b[39m \u001b[39m\"\u001b[39m\u001b[39mThe \u001b[39m\u001b[39m'\u001b[39m\u001b[39m%s\u001b[39;00m\u001b[39m'\u001b[39m\u001b[39m trait expected \u001b[39m\u001b[39m%s\u001b[39;00m\u001b[39m, not \u001b[39m\u001b[39m%s\u001b[39;00m\u001b[39m.\u001b[39m\u001b[39m\"\u001b[39m \u001b[39m%\u001b[39m (\n\u001b[0;32m    679\u001b[0m         \u001b[39mself\u001b[39m\u001b[39m.\u001b[39mname, \u001b[39mself\u001b[39m\u001b[39m.\u001b[39minfo(), describe(\u001b[39m\"\u001b[39m\u001b[39mthe\u001b[39m\u001b[39m\"\u001b[39m, value))\n\u001b[1;32m--> 680\u001b[0m \u001b[39mraise\u001b[39;00m TraitError(e)\n",
      "\u001b[1;31mTraitError\u001b[0m: The 'weatherdataprovider' trait of a Wofost72_WLP_FD instance expected a WeatherDataProvider or None, not the DataFrame             tavg  tmin  tmax  prcp  snow   wdir  wspd  wpgt    pres  tsun\ntime                                                                     \n2020-01-01   9.4   6.8  12.0   0.0   0.0  245.0  19.1  68.0  1006.1   NaN\n2020-01-02   5.0   3.1   6.8   0.6   0.0   85.0  18.5  61.0  1016.9   NaN\n2020-01-03   7.6   4.4  10.8   4.9   0.0  123.0  28.5  55.0  1007.5   NaN\n2020-01-04   7.3   5.6   8.9   2.5   0.0  185.0  21.8  54.0  1019.3   NaN\n2020-01-05   5.2   3.3   7.0   1.4   0.0  137.0  23.5  72.0  1021.6   NaN\n...          ...   ...   ...   ...   ...    ...   ...   ...     ...   ...\n2020-12-27   6.2   5.6   6.9   5.8   0.0   71.0  10.8   NaN  1019.1   NaN\n2020-12-28   5.4   4.1   6.6   1.3   0.0  314.0  13.1  39.0  1020.9   NaN\n2020-12-29   4.3   3.2   5.4   7.1   0.0   83.0  12.3  32.0  1023.9   NaN\n2020-12-30   5.2   3.7   6.7  39.8   0.0   78.0  25.6  48.0  1009.7   NaN\n2020-12-31   6.0   4.7   7.3   9.7   0.0   81.0  10.9  33.0  1015.2   NaN\n\n[366 rows x 10 columns]."
     ]
    }
   ],
   "source": [
    "from pcse.models import Wofost72_WLP_FD, Wofost72_PP\n",
    "wofsim = Wofost72_WLP_FD(parameters, data, agromanagement)"
   ]
  },
  {
   "cell_type": "code",
   "execution_count": 15,
   "metadata": {},
   "outputs": [
    {
     "data": {
      "text/html": [
       "<div>\n",
       "<style scoped>\n",
       "    .dataframe tbody tr th:only-of-type {\n",
       "        vertical-align: middle;\n",
       "    }\n",
       "\n",
       "    .dataframe tbody tr th {\n",
       "        vertical-align: top;\n",
       "    }\n",
       "\n",
       "    .dataframe thead th {\n",
       "        text-align: right;\n",
       "    }\n",
       "</style>\n",
       "<table border=\"1\" class=\"dataframe\">\n",
       "  <thead>\n",
       "    <tr style=\"text-align: right;\">\n",
       "      <th></th>\n",
       "      <th>DVS</th>\n",
       "      <th>LAI</th>\n",
       "      <th>TAGP</th>\n",
       "      <th>TWSO</th>\n",
       "      <th>TWLV</th>\n",
       "      <th>TWST</th>\n",
       "      <th>TWRT</th>\n",
       "      <th>TRA</th>\n",
       "      <th>RD</th>\n",
       "      <th>SM</th>\n",
       "      <th>WWLOW</th>\n",
       "    </tr>\n",
       "    <tr>\n",
       "      <th>day</th>\n",
       "      <th></th>\n",
       "      <th></th>\n",
       "      <th></th>\n",
       "      <th></th>\n",
       "      <th></th>\n",
       "      <th></th>\n",
       "      <th></th>\n",
       "      <th></th>\n",
       "      <th></th>\n",
       "      <th></th>\n",
       "      <th></th>\n",
       "    </tr>\n",
       "  </thead>\n",
       "  <tbody>\n",
       "    <tr>\n",
       "      <th>2006-10-16</th>\n",
       "      <td>2.0</td>\n",
       "      <td>1.048787</td>\n",
       "      <td>21557.705173</td>\n",
       "      <td>14410.185356</td>\n",
       "      <td>3408.824045</td>\n",
       "      <td>3738.695772</td>\n",
       "      <td>2805.686837</td>\n",
       "      <td>0.052878</td>\n",
       "      <td>120.0</td>\n",
       "      <td>0.283340</td>\n",
       "      <td>34.000845</td>\n",
       "    </tr>\n",
       "    <tr>\n",
       "      <th>2006-10-17</th>\n",
       "      <td>2.0</td>\n",
       "      <td>1.055901</td>\n",
       "      <td>21628.846417</td>\n",
       "      <td>14474.212476</td>\n",
       "      <td>3412.381108</td>\n",
       "      <td>3742.252834</td>\n",
       "      <td>2807.138699</td>\n",
       "      <td>0.030516</td>\n",
       "      <td>120.0</td>\n",
       "      <td>0.282876</td>\n",
       "      <td>33.945161</td>\n",
       "    </tr>\n",
       "    <tr>\n",
       "      <th>2006-10-18</th>\n",
       "      <td>2.0</td>\n",
       "      <td>1.049414</td>\n",
       "      <td>21658.771700</td>\n",
       "      <td>14501.145230</td>\n",
       "      <td>3413.877372</td>\n",
       "      <td>3743.749098</td>\n",
       "      <td>2807.749419</td>\n",
       "      <td>0.030184</td>\n",
       "      <td>120.0</td>\n",
       "      <td>0.284605</td>\n",
       "      <td>34.152545</td>\n",
       "    </tr>\n",
       "    <tr>\n",
       "      <th>2006-10-19</th>\n",
       "      <td>2.0</td>\n",
       "      <td>1.052133</td>\n",
       "      <td>21685.964928</td>\n",
       "      <td>14525.619135</td>\n",
       "      <td>3415.237033</td>\n",
       "      <td>3745.108759</td>\n",
       "      <td>2808.304383</td>\n",
       "      <td>0.043053</td>\n",
       "      <td>120.0</td>\n",
       "      <td>0.284840</td>\n",
       "      <td>34.180768</td>\n",
       "    </tr>\n",
       "    <tr>\n",
       "      <th>2006-10-20</th>\n",
       "      <td>2.0</td>\n",
       "      <td>1.043584</td>\n",
       "      <td>21717.141971</td>\n",
       "      <td>14553.678474</td>\n",
       "      <td>3416.795885</td>\n",
       "      <td>3746.667611</td>\n",
       "      <td>2808.940650</td>\n",
       "      <td>0.039061</td>\n",
       "      <td>120.0</td>\n",
       "      <td>0.284271</td>\n",
       "      <td>34.112520</td>\n",
       "    </tr>\n",
       "  </tbody>\n",
       "</table>\n",
       "</div>"
      ],
      "text/plain": [
       "            DVS       LAI          TAGP          TWSO         TWLV  \\\n",
       "day                                                                  \n",
       "2006-10-16  2.0  1.048787  21557.705173  14410.185356  3408.824045   \n",
       "2006-10-17  2.0  1.055901  21628.846417  14474.212476  3412.381108   \n",
       "2006-10-18  2.0  1.049414  21658.771700  14501.145230  3413.877372   \n",
       "2006-10-19  2.0  1.052133  21685.964928  14525.619135  3415.237033   \n",
       "2006-10-20  2.0  1.043584  21717.141971  14553.678474  3416.795885   \n",
       "\n",
       "                   TWST         TWRT       TRA     RD        SM      WWLOW  \n",
       "day                                                                         \n",
       "2006-10-16  3738.695772  2805.686837  0.052878  120.0  0.283340  34.000845  \n",
       "2006-10-17  3742.252834  2807.138699  0.030516  120.0  0.282876  33.945161  \n",
       "2006-10-18  3743.749098  2807.749419  0.030184  120.0  0.284605  34.152545  \n",
       "2006-10-19  3745.108759  2808.304383  0.043053  120.0  0.284840  34.180768  \n",
       "2006-10-20  3746.667611  2808.940650  0.039061  120.0  0.284271  34.112520  "
      ]
     },
     "execution_count": 15,
     "metadata": {},
     "output_type": "execute_result"
    }
   ],
   "source": [
    "wofsim.run_till_terminate()\n",
    "df_results = pd.DataFrame(wofsim.get_output())\n",
    "df_results = df_results.set_index(\"day\")\n",
    "df_results.tail()"
   ]
  },
  {
   "cell_type": "code",
   "execution_count": 7,
   "metadata": {},
   "outputs": [
    {
     "name": "stdout",
     "output_type": "stream",
     "text": [
      "17442.487659223007 $\n"
     ]
    }
   ],
   "source": [
    "from get_market_value import *\n",
    "\n",
    "agrom = {\n",
    "    'latitude' : 37.5453,\n",
    "    'longitude' : -7.6765,\n",
    "    'crop_area' : 12,\n",
    "    'crop_name' : \"wheat\",\n",
    "    'variety_name' : \"Winter_wheat_103\",\n",
    "    'campaign_start_date' : \"2022-01-01\",\n",
    "    'emergence_date' : \"2022-03-31\",\n",
    "    'harvest_date' : \"2022-12-20\",\n",
    "    'max_duration' : 300}\n",
    "\n",
    "\n",
    "print(get_market_value(agrom), \"$\")"
   ]
  },
  {
   "cell_type": "code",
   "execution_count": 13,
   "metadata": {},
   "outputs": [
    {
     "name": "stdout",
     "output_type": "stream",
     "text": [
      "Empty DataFrame\n",
      "Columns: []\n",
      "Index: []\n"
     ]
    }
   ],
   "source": [
    "import glob\n",
    "import pandas as pd\n",
    "\n",
    "data_path = 'data'\n",
    "\n",
    "csv_files = sorted(glob.glob(data_path + '\\\\' + '*.csv'))\n",
    "\n",
    "# Initialize an empty DataFrame to store the combined data\n",
    "combined_df = pd.DataFrame()\n",
    "\n",
    "# Iterate over each CSV file\n",
    "for csv_file in csv_files:\n",
    "    # Read the CSV file into a DataFrame\n",
    "    df = pd.read_csv(csv_file)\n",
    "    \n",
    "    # Append the DataFrame to the combined_df\n",
    "    combined_df = combined_df.append(df, ignore_index=True)\n",
    "\n",
    "# Print the combined DataFrame\n",
    "print(combined_df)\n"
   ]
  },
  {
   "cell_type": "code",
   "execution_count": 1,
   "metadata": {},
   "outputs": [
    {
     "data": {
      "application/vnd.jupyter.widget-view+json": {
       "model_id": "54926eecb90241619c9e8338695c8b69",
       "version_major": 2,
       "version_minor": 0
      },
      "text/plain": [
       "Map(center=[43.06727871132332, -89.41813275790595], controls=(WidgetControl(options=['position', 'transparent_…"
      ]
     },
     "execution_count": 1,
     "metadata": {},
     "output_type": "execute_result"
    }
   ],
   "source": [
    "import ee\n",
    "import geemap\n",
    "\n",
    "try:\n",
    "    ee.Initialize()\n",
    "except:\n",
    "    ee.Authenticate()\n",
    "    ee.Initialize()\n",
    "\n",
    "countyBoundary = ee.FeatureCollection('TIGER/2018/Counties') \\\n",
    "    .filter(ee.Filter.eq('STATEFP', '55')) \\\n",
    "    .filter(ee.Filter.eq('NAME', 'Dane'))\n",
    "\n",
    "# Create a map and add the clipped NDVI map\n",
    "Map = geemap.Map(basemap = 'SATELLITE')\n",
    "Map.centerObject(countyBoundary, 10)\n",
    "\n",
    "Map.addLayer(countyBoundary, {'color': 'FF000000'}, 'County Boundary')\n",
    "\n",
    "# Display the map\n",
    "Map.addLayerControl()\n",
    "Map"
   ]
  },
  {
   "cell_type": "code",
   "execution_count": 6,
   "metadata": {},
   "outputs": [
    {
     "data": {
      "text/plain": [
       "3199.4400446410014"
      ]
     },
     "execution_count": 6,
     "metadata": {},
     "output_type": "execute_result"
    }
   ],
   "source": [
    "from get_land_area import *\n",
    "\n",
    "get_land_area(countyBoundary)"
   ]
  },
  {
   "cell_type": "code",
   "execution_count": 4,
   "metadata": {},
   "outputs": [
    {
     "name": "stdout",
     "output_type": "stream",
     "text": [
      "2022-08-20\n"
     ]
    }
   ],
   "source": [
    "import datetime as dt\n",
    "\n",
    "start_date = dt.date(2022, 8, 20)\n",
    "\n",
    "print(start_date)"
   ]
  },
  {
   "cell_type": "code",
   "execution_count": 9,
   "metadata": {},
   "outputs": [
    {
     "ename": "TypeError",
     "evalue": "Index(...) must be called with a collection of some kind, '08-20' was passed",
     "output_type": "error",
     "traceback": [
      "\u001b[1;31m---------------------------------------------------------------------------\u001b[0m",
      "\u001b[1;31mTypeError\u001b[0m                                 Traceback (most recent call last)",
      "Cell \u001b[1;32mIn[9], line 2\u001b[0m\n\u001b[0;32m      1\u001b[0m \u001b[39mimport\u001b[39;00m \u001b[39mpandas\u001b[39;00m \u001b[39mas\u001b[39;00m \u001b[39mpd\u001b[39;00m\n\u001b[1;32m----> 2\u001b[0m new_pd \u001b[39m=\u001b[39m pd\u001b[39m.\u001b[39;49mDataFrame(index \u001b[39m=\u001b[39;49m start_date\u001b[39m.\u001b[39;49mstrftime(\u001b[39m'\u001b[39;49m\u001b[39m%\u001b[39;49m\u001b[39mm-\u001b[39;49m\u001b[39m%d\u001b[39;49;00m\u001b[39m'\u001b[39;49m))\n\u001b[0;32m      4\u001b[0m new_pd\u001b[39m.\u001b[39mloc[\u001b[39m0\u001b[39m] \u001b[39m=\u001b[39m \u001b[39m122\u001b[39m\n\u001b[0;32m      6\u001b[0m new_pd\n",
      "File \u001b[1;32mc:\\Users\\abdel\\anaconda3\\envs\\abtest\\lib\\site-packages\\pandas\\core\\frame.py:664\u001b[0m, in \u001b[0;36mDataFrame.__init__\u001b[1;34m(self, data, index, columns, dtype, copy)\u001b[0m\n\u001b[0;32m    658\u001b[0m     mgr \u001b[39m=\u001b[39m \u001b[39mself\u001b[39m\u001b[39m.\u001b[39m_init_mgr(\n\u001b[0;32m    659\u001b[0m         data, axes\u001b[39m=\u001b[39m{\u001b[39m\"\u001b[39m\u001b[39mindex\u001b[39m\u001b[39m\"\u001b[39m: index, \u001b[39m\"\u001b[39m\u001b[39mcolumns\u001b[39m\u001b[39m\"\u001b[39m: columns}, dtype\u001b[39m=\u001b[39mdtype, copy\u001b[39m=\u001b[39mcopy\n\u001b[0;32m    660\u001b[0m     )\n\u001b[0;32m    662\u001b[0m \u001b[39melif\u001b[39;00m \u001b[39misinstance\u001b[39m(data, \u001b[39mdict\u001b[39m):\n\u001b[0;32m    663\u001b[0m     \u001b[39m# GH#38939 de facto copy defaults to False only in non-dict cases\u001b[39;00m\n\u001b[1;32m--> 664\u001b[0m     mgr \u001b[39m=\u001b[39m dict_to_mgr(data, index, columns, dtype\u001b[39m=\u001b[39;49mdtype, copy\u001b[39m=\u001b[39;49mcopy, typ\u001b[39m=\u001b[39;49mmanager)\n\u001b[0;32m    665\u001b[0m \u001b[39melif\u001b[39;00m \u001b[39misinstance\u001b[39m(data, ma\u001b[39m.\u001b[39mMaskedArray):\n\u001b[0;32m    666\u001b[0m     \u001b[39mimport\u001b[39;00m \u001b[39mnumpy\u001b[39;00m\u001b[39m.\u001b[39;00m\u001b[39mma\u001b[39;00m\u001b[39m.\u001b[39;00m\u001b[39mmrecords\u001b[39;00m \u001b[39mas\u001b[39;00m \u001b[39mmrecords\u001b[39;00m\n",
      "File \u001b[1;32mc:\\Users\\abdel\\anaconda3\\envs\\abtest\\lib\\site-packages\\pandas\\core\\internals\\construction.py:493\u001b[0m, in \u001b[0;36mdict_to_mgr\u001b[1;34m(data, index, columns, dtype, typ, copy)\u001b[0m\n\u001b[0;32m    489\u001b[0m     \u001b[39melse\u001b[39;00m:\n\u001b[0;32m    490\u001b[0m         \u001b[39m# dtype check to exclude e.g. range objects, scalars\u001b[39;00m\n\u001b[0;32m    491\u001b[0m         arrays \u001b[39m=\u001b[39m [x\u001b[39m.\u001b[39mcopy() \u001b[39mif\u001b[39;00m \u001b[39mhasattr\u001b[39m(x, \u001b[39m\"\u001b[39m\u001b[39mdtype\u001b[39m\u001b[39m\"\u001b[39m) \u001b[39melse\u001b[39;00m x \u001b[39mfor\u001b[39;00m x \u001b[39min\u001b[39;00m arrays]\n\u001b[1;32m--> 493\u001b[0m \u001b[39mreturn\u001b[39;00m arrays_to_mgr(arrays, columns, index, dtype\u001b[39m=\u001b[39;49mdtype, typ\u001b[39m=\u001b[39;49mtyp, consolidate\u001b[39m=\u001b[39;49mcopy)\n",
      "File \u001b[1;32mc:\\Users\\abdel\\anaconda3\\envs\\abtest\\lib\\site-packages\\pandas\\core\\internals\\construction.py:120\u001b[0m, in \u001b[0;36marrays_to_mgr\u001b[1;34m(arrays, columns, index, dtype, verify_integrity, typ, consolidate)\u001b[0m\n\u001b[0;32m    118\u001b[0m     index \u001b[39m=\u001b[39m _extract_index(arrays)\n\u001b[0;32m    119\u001b[0m \u001b[39melse\u001b[39;00m:\n\u001b[1;32m--> 120\u001b[0m     index \u001b[39m=\u001b[39m ensure_index(index)\n\u001b[0;32m    122\u001b[0m \u001b[39m# don't force copy because getting jammed in an ndarray anyway\u001b[39;00m\n\u001b[0;32m    123\u001b[0m arrays \u001b[39m=\u001b[39m _homogenize(arrays, index, dtype)\n",
      "File \u001b[1;32mc:\\Users\\abdel\\anaconda3\\envs\\abtest\\lib\\site-packages\\pandas\\core\\indexes\\base.py:7333\u001b[0m, in \u001b[0;36mensure_index\u001b[1;34m(index_like, copy)\u001b[0m\n\u001b[0;32m   7331\u001b[0m         \u001b[39mreturn\u001b[39;00m Index\u001b[39m.\u001b[39m_with_infer(index_like, copy\u001b[39m=\u001b[39mcopy, tupleize_cols\u001b[39m=\u001b[39m\u001b[39mFalse\u001b[39;00m)\n\u001b[0;32m   7332\u001b[0m \u001b[39melse\u001b[39;00m:\n\u001b[1;32m-> 7333\u001b[0m     \u001b[39mreturn\u001b[39;00m Index\u001b[39m.\u001b[39;49m_with_infer(index_like, copy\u001b[39m=\u001b[39;49mcopy)\n",
      "File \u001b[1;32mc:\\Users\\abdel\\anaconda3\\envs\\abtest\\lib\\site-packages\\pandas\\core\\indexes\\base.py:716\u001b[0m, in \u001b[0;36mIndex._with_infer\u001b[1;34m(cls, *args, **kwargs)\u001b[0m\n\u001b[0;32m    714\u001b[0m \u001b[39mwith\u001b[39;00m warnings\u001b[39m.\u001b[39mcatch_warnings():\n\u001b[0;32m    715\u001b[0m     warnings\u001b[39m.\u001b[39mfilterwarnings(\u001b[39m\"\u001b[39m\u001b[39mignore\u001b[39m\u001b[39m\"\u001b[39m, \u001b[39m\"\u001b[39m\u001b[39m.*the Index constructor\u001b[39m\u001b[39m\"\u001b[39m, \u001b[39mFutureWarning\u001b[39;00m)\n\u001b[1;32m--> 716\u001b[0m     result \u001b[39m=\u001b[39m \u001b[39mcls\u001b[39m(\u001b[39m*\u001b[39margs, \u001b[39m*\u001b[39m\u001b[39m*\u001b[39mkwargs)\n\u001b[0;32m    718\u001b[0m \u001b[39mif\u001b[39;00m result\u001b[39m.\u001b[39mdtype \u001b[39m==\u001b[39m _dtype_obj \u001b[39mand\u001b[39;00m \u001b[39mnot\u001b[39;00m result\u001b[39m.\u001b[39m_is_multi:\n\u001b[0;32m    719\u001b[0m     \u001b[39m# error: Argument 1 to \"maybe_convert_objects\" has incompatible type\u001b[39;00m\n\u001b[0;32m    720\u001b[0m     \u001b[39m# \"Union[ExtensionArray, ndarray[Any, Any]]\"; expected\u001b[39;00m\n\u001b[0;32m    721\u001b[0m     \u001b[39m# \"ndarray[Any, Any]\"\u001b[39;00m\n\u001b[0;32m    722\u001b[0m     values \u001b[39m=\u001b[39m lib\u001b[39m.\u001b[39mmaybe_convert_objects(result\u001b[39m.\u001b[39m_values)  \u001b[39m# type: ignore[arg-type]\u001b[39;00m\n",
      "File \u001b[1;32mc:\\Users\\abdel\\anaconda3\\envs\\abtest\\lib\\site-packages\\pandas\\core\\indexes\\base.py:545\u001b[0m, in \u001b[0;36mIndex.__new__\u001b[1;34m(cls, data, dtype, copy, name, tupleize_cols, **kwargs)\u001b[0m\n\u001b[0;32m    542\u001b[0m     \u001b[39mreturn\u001b[39;00m klass\u001b[39m.\u001b[39m_simple_new(arr, name)\n\u001b[0;32m    544\u001b[0m \u001b[39melif\u001b[39;00m is_scalar(data):\n\u001b[1;32m--> 545\u001b[0m     \u001b[39mraise\u001b[39;00m \u001b[39mcls\u001b[39m\u001b[39m.\u001b[39m_scalar_data_error(data)\n\u001b[0;32m    546\u001b[0m \u001b[39melif\u001b[39;00m \u001b[39mhasattr\u001b[39m(data, \u001b[39m\"\u001b[39m\u001b[39m__array__\u001b[39m\u001b[39m\"\u001b[39m):\n\u001b[0;32m    547\u001b[0m     \u001b[39mreturn\u001b[39;00m Index(np\u001b[39m.\u001b[39masarray(data), dtype\u001b[39m=\u001b[39mdtype, copy\u001b[39m=\u001b[39mcopy, name\u001b[39m=\u001b[39mname, \u001b[39m*\u001b[39m\u001b[39m*\u001b[39mkwargs)\n",
      "\u001b[1;31mTypeError\u001b[0m: Index(...) must be called with a collection of some kind, '08-20' was passed"
     ]
    }
   ],
   "source": [
    "import pandas as pd\n",
    "new_pd = pd.DataFrame(index = start_date.strftime('%m-%d'))\n",
    "\n",
    "new_pd.loc[0] = 122\n",
    "\n",
    "new_pd"
   ]
  },
  {
   "cell_type": "code",
   "execution_count": null,
   "metadata": {},
   "outputs": [],
   "source": []
  }
 ],
 "metadata": {
  "kernelspec": {
   "display_name": "abtest",
   "language": "python",
   "name": "python3"
  },
  "language_info": {
   "codemirror_mode": {
    "name": "ipython",
    "version": 3
   },
   "file_extension": ".py",
   "mimetype": "text/x-python",
   "name": "python",
   "nbconvert_exporter": "python",
   "pygments_lexer": "ipython3",
   "version": "3.9.16"
  },
  "orig_nbformat": 4
 },
 "nbformat": 4,
 "nbformat_minor": 2
}
