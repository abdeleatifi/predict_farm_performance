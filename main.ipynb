{
 "cells": [
  {
   "cell_type": "code",
   "execution_count": null,
   "metadata": {},
   "outputs": [],
   "source": [
    "import yaml\n",
    "\n",
    "%matplotlib inline\n",
    "import sys, os\n",
    "import matplotlib\n",
    "matplotlib.style.use(\"ggplot\")\n",
    "import matplotlib.pyplot as plt\n",
    "import pandas as pd\n",
    "\n",
    "data_dir = os.path.join(os.getcwd(), \"data\")\n",
    "import pcse\n",
    "from pcse.models import Wofost72_PP\n",
    "from pcse.base import ParameterProvider\n",
    "from pcse.db import NASAPowerWeatherDataProvider\n",
    "from pcse.fileinput import YAMLCropDataProvider\n",
    "from pcse.util import WOFOST72SiteDataProvider, DummySoilDataProvider\n",
    "from progressbar import printProgressBar\n",
    "\n",
    "print(\"This notebook was built with:\")\n",
    "print(\"python version: %s \" % sys.version)\n",
    "print(\"PCSE version: %s\" %  pcse.__version__)\n",
    "\n",
    "from datetime import datetime\n",
    "import matplotlib.pyplot as plt\n",
    "from meteostat import Point, Daily, Stations"
   ]
  },
  {
   "cell_type": "code",
   "execution_count": null,
   "metadata": {},
   "outputs": [],
   "source": [
    "# Define location, crop and season\n",
    "latitude = 32.108136\n",
    "longitude = -7.842794\n",
    "crop_name = 'wheat'\n",
    "variety_name = 'Winter_wheat_101'\n",
    "campaign_start_date = '2022-01-01'\n",
    "emergence_date = \"2022-03-31\"\n",
    "harvest_date = \"2022-10-20\"\n",
    "max_duration = 300"
   ]
  },
  {
   "cell_type": "code",
   "execution_count": null,
   "metadata": {},
   "outputs": [],
   "source": [
    "# Here we define the agromanagement for sugar beet\n",
    "agro_yaml = \"\"\"\n",
    "- {start}:\n",
    "    CropCalendar:\n",
    "        crop_name: {cname}\n",
    "        variety_name: {vname}\n",
    "        crop_start_date: {startdate}\n",
    "        crop_start_type: emergence\n",
    "        crop_end_date: {enddate}\n",
    "        crop_end_type: harvest\n",
    "        max_duration: {maxdur}\n",
    "    TimedEvents: null\n",
    "    StateEvents: null\n",
    "\"\"\".format(cname=crop_name, vname=variety_name, \n",
    "           start=campaign_start_date, startdate=emergence_date, \n",
    "           enddate=harvest_date, maxdur=max_duration)\n",
    "agro = yaml.safe_load(agro_yaml)\n",
    "print(agro_yaml)"
   ]
  },
  {
   "cell_type": "code",
   "execution_count": null,
   "metadata": {},
   "outputs": [],
   "source": [
    "# Weather data for Netherlands\n",
    "wdp = NASAPowerWeatherDataProvider(latitude=latitude, longitude=longitude)\n",
    "\n",
    "# Parameter sets for crop, soil and site\n",
    "# Standard crop parameter library\n",
    "cropd = YAMLCropDataProvider()\n",
    "\n",
    "# We don't need soil for potential production, so we use dummy values\n",
    "soild = DummySoilDataProvider()\n",
    "# Some site parameters\n",
    "sited = WOFOST72SiteDataProvider(WAV=50)\n",
    "\n",
    "# Retrieve all parameters in the form of a single object. \n",
    "# In order to see all parameters for the selected crop already, we\n",
    "# synchronise data provider cropd with the crop/variety: \n",
    "firstkey = list(agro[0])[0]\n",
    "cropcalendar = agro[0][firstkey]['CropCalendar'] \n",
    "cropd.set_active_crop(cropcalendar['crop_name'], cropcalendar['variety_name'])\n",
    "params = ParameterProvider(cropdata=cropd, sitedata=sited, soildata=soild)"
   ]
  },
  {
   "cell_type": "code",
   "execution_count": null,
   "metadata": {},
   "outputs": [],
   "source": [
    "wofost = Wofost72_PP(params, wdp, agro)\n",
    "wofost.run_till_terminate()\n",
    "\n",
    "df_results = pd.DataFrame(wofost.get_summary_output())\n",
    "#df_results = df_results.set_index(\"day\")\n",
    "df_results.tail()"
   ]
  },
  {
   "cell_type": "code",
   "execution_count": null,
   "metadata": {},
   "outputs": [],
   "source": [
    "df_results_out = pd.DataFrame(wofost.get_output())\n",
    "df_results_out = df_results_out.set_index(\"day\")\n",
    "df_results_out.tail()"
   ]
  },
  {
   "cell_type": "code",
   "execution_count": null,
   "metadata": {},
   "outputs": [],
   "source": [
    "from pcse.fileinput import CABOFileReader\n",
    "\n",
    "cropfile = os.path.join(data_dir, 'crop', 'SUG0601.crop')\n",
    "cropd = CABOFileReader(cropfile)"
   ]
  },
  {
   "cell_type": "code",
   "execution_count": null,
   "metadata": {},
   "outputs": [],
   "source": [
    "soilfile = os.path.join(data_dir, 'soil', 'ec3.soil')\n",
    "soild = CABOFileReader(soilfile)"
   ]
  },
  {
   "cell_type": "code",
   "execution_count": null,
   "metadata": {},
   "outputs": [],
   "source": [
    "from pcse.util import WOFOST72SiteDataProvider\n",
    "sited = WOFOST72SiteDataProvider(WAV=10, CO2=360)\n",
    "print(sited)"
   ]
  },
  {
   "cell_type": "code",
   "execution_count": null,
   "metadata": {},
   "outputs": [],
   "source": [
    "from pcse.base import ParameterProvider\n",
    "parameters = ParameterProvider(cropdata=cropd, soildata=soild, sitedata=sited)"
   ]
  },
  {
   "cell_type": "code",
   "execution_count": null,
   "metadata": {},
   "outputs": [],
   "source": [
    "from pcse.fileinput import YAMLAgroManagementReader\n",
    "agromanagement_file = os.path.join(data_dir, 'agro', 'sugarbeet_calendar.agro')\n",
    "agromanagement = YAMLAgroManagementReader(agromanagement_file)\n",
    "print(agromanagement)"
   ]
  },
  {
   "cell_type": "code",
   "execution_count": null,
   "metadata": {},
   "outputs": [],
   "source": [
    "from pcse.fileinput import CSVWeatherDataProvider\n",
    "weatherfile = os.path.join(data_dir, 'meteo', 'wdata.csv')\n",
    "wdp = CSVWeatherDataProvider(weatherfile)\n",
    "print(wdp)"
   ]
  },
  {
   "cell_type": "code",
   "execution_count": null,
   "metadata": {},
   "outputs": [],
   "source": [
    "from pcse.fileinput import ExcelWeatherDataProvider\n",
    "weatherfile = os.path.join(data_dir, 'meteo', 'wdata.xlsx')\n",
    "wdp = ExcelWeatherDataProvider(weatherfile)\n",
    "print(wdp)"
   ]
  },
  {
   "cell_type": "code",
   "execution_count": null,
   "metadata": {},
   "outputs": [],
   "source": [
    "from pcse.models import Wofost72_WLP_FD, Wofost72_PP\n",
    "wofsim = Wofost72_WLP_FD(parameters, data, agromanagement)"
   ]
  },
  {
   "cell_type": "code",
   "execution_count": null,
   "metadata": {},
   "outputs": [],
   "source": [
    "wofsim.run_till_terminate()\n",
    "df_results = pd.DataFrame(wofsim.get_output())\n",
    "df_results = df_results.set_index(\"day\")\n",
    "df_results.tail()"
   ]
  },
  {
   "cell_type": "code",
   "execution_count": null,
   "metadata": {},
   "outputs": [],
   "source": [
    "from get_market_value import *\n",
    "\n",
    "agrom = {\n",
    "    'latitude' : 37.5453,\n",
    "    'longitude' : -7.6765,\n",
    "    'crop_area' : 12,\n",
    "    'crop_name' : \"wheat\",\n",
    "    'variety_name' : \"Winter_wheat_103\",\n",
    "    'campaign_start_date' : \"2022-01-01\",\n",
    "    'emergence_date' : \"2022-03-31\",\n",
    "    'harvest_date' : \"2022-12-20\",\n",
    "    'max_duration' : 300}\n",
    "\n",
    "\n",
    "print(get_market_value(agrom), \"$\")"
   ]
  },
  {
   "cell_type": "code",
   "execution_count": null,
   "metadata": {},
   "outputs": [],
   "source": [
    "import ee\n",
    "import geemap\n",
    "\n",
    "try:\n",
    "    ee.Initialize()\n",
    "except:\n",
    "    ee.Authenticate()\n",
    "    ee.Initialize()\n",
    "\n",
    "countyBoundary = ee.FeatureCollection('TIGER/2018/Counties') \\\n",
    "    .filter(ee.Filter.eq('STATEFP', '55')) \\\n",
    "    .filter(ee.Filter.eq('NAME', 'Dane'))\n",
    "\n",
    "# Create a map and add the clipped NDVI map\n",
    "Map = geemap.Map(basemap = 'SATELLITE')\n",
    "Map.centerObject(countyBoundary, 10)\n",
    "\n",
    "Map.addLayer(countyBoundary, {'color': 'FF000000'}, 'County Boundary')\n",
    "\n",
    "# Display the map\n",
    "Map.addLayerControl()\n",
    "Map"
   ]
  },
  {
   "cell_type": "code",
   "execution_count": null,
   "metadata": {},
   "outputs": [],
   "source": [
    "from get_land_area import *\n",
    "\n",
    "get_land_area(countyBoundary)"
   ]
  },
  {
   "cell_type": "code",
   "execution_count": null,
   "metadata": {},
   "outputs": [],
   "source": [
    "import datetime as dt\n",
    "\n",
    "start_date = dt.date(2022, 8, 20)\n",
    "\n",
    "print(start_date)"
   ]
  },
  {
   "cell_type": "code",
   "execution_count": 7,
   "metadata": {},
   "outputs": [],
   "source": [
    "def get_temp_ind(crop_geometry, start_date, end_date):\n",
    "\n",
    "    # Define the base and upper temperature thresholds (in Celsius)\n",
    "    base_temp = 5.0\n",
    "    upper_temp = 30.0\n",
    "\n",
    "    # Define the lower temperature threshold (in Celsius)\n",
    "    lower_temp = 0.0\n",
    "\n",
    "    # Filter MODIS Land Surface Temperature (MOD11A2) imagery by date and AOI\n",
    "    filtered_collection = ee.ImageCollection('MODIS/006/MOD11A1') \\\n",
    "        .filterDate(start_date, end_date) \\\n",
    "        .filterBounds(crop_geometry)\n",
    "\n",
    "    # Function to calculate GDD, EHDD, and ECDD for an image\n",
    "    def calculate_indices(image):\n",
    "        # Retrieve the temperature band\n",
    "        lst = image.select('LST_Day_1km')\n",
    "\n",
    "        print(lst)\n",
    "\n",
    "        # Calculate GDD, EHDD, and ECDD\n",
    "        gdd = ee.Image(0).where(lst.gt(base_temp), lst.subtract(base_temp).divide(2)).rename('GDD')\n",
    "        ehdd = ee.Image(0).where(lst.gt(upper_temp), lst.subtract(upper_temp)).rename('EHDD')\n",
    "        ecdd = ee.Image(0).where(lst.lt(lower_temp), lower_temp.subtract(lst)).rename('ECDD')\n",
    "\n",
    "        # Return the image with added GDD, EHDD, and ECDD bands\n",
    "        return image.addBands([gdd, ehdd, ecdd])\n",
    "\n",
    "    # Map the calculate_indices function over the image collection\n",
    "    indices_collection = filtered_collection.map(calculate_indices)\n",
    "\n",
    "    # Get the GDD, EHDD, and ECDD bands from the first image in the collection\n",
    "    first_image = ee.Image(indices_collection.first())\n",
    "    gdd_band = first_image.select('GDD')\n",
    "    ehdd_band = first_image.select('EHDD')\n",
    "    ecdd_band = first_image.select('ECDD')\n",
    "\n",
    "    # Calculate the cumulative sum of GDD, EHDD, and ECDD over time\n",
    "    cumulative_gdd = indices_collection.select('GDD').sum().rename('Cumulative_GDD')\n",
    "    cumulative_ehdd = indices_collection.select('EHDD').sum().rename('Cumulative_EHDD')\n",
    "    cumulative_ecdd = indices_collection.select('ECDD').sum().rename('Cumulative_ECDD')\n",
    "\n",
    "    # Print the cumulative GDD, EHDD, and ECDD images\n",
    "    print('Cumulative GDD:', cumulative_gdd.getInfo())\n",
    "    print('Cumulative EHDD:', cumulative_ehdd.getInfo())\n",
    "    print('Cumulative ECDD:', cumulative_ecdd.getInfo())\n"
   ]
  },
  {
   "cell_type": "code",
   "execution_count": 2,
   "metadata": {},
   "outputs": [
    {
     "data": {
      "application/vnd.jupyter.widget-view+json": {
       "model_id": "085024b4114949c7bdd100c53ac5ff83",
       "version_major": 2,
       "version_minor": 0
      },
      "text/plain": [
       "Map(center=[20, 0], controls=(WidgetControl(options=['position', 'transparent_bg'], widget=HBox(children=(Togg…"
      ]
     },
     "execution_count": 2,
     "metadata": {},
     "output_type": "execute_result"
    }
   ],
   "source": [
    "import geemap\n",
    "\n",
    "# Create a map and add the clipped NDVI map\n",
    "Map = geemap.Map(basemap = 'SATELLITE')\n",
    "\n",
    "Map.addLayerControl()\n",
    "# Display the map\n",
    "Map"
   ]
  },
  {
   "cell_type": "code",
   "execution_count": 18,
   "metadata": {},
   "outputs": [],
   "source": [
    "import ee\n",
    "\n",
    "crop_geometry = ee.FeatureCollection(Map.draw_features)\n",
    "\n",
    "plant_date = '2021-09-01'\n",
    "har_date = '2022-07-20'"
   ]
  },
  {
   "cell_type": "code",
   "execution_count": 19,
   "metadata": {},
   "outputs": [],
   "source": []
  },
  {
   "cell_type": "code",
   "execution_count": 50,
   "metadata": {},
   "outputs": [
    {
     "data": {
      "text/html": [
       "<div><style>:root {\n",
       "  --font-color-primary: var(--jp-content-font-color0, rgba(0, 0, 0, 1));\n",
       "  --font-color-secondary: var(--jp-content-font-color2, rgba(0, 0, 0, 0.6));\n",
       "  --font-color-accent: rgba(123, 31, 162, 1);\n",
       "  --border-color: var(--jp-border-color2, #e0e0e0);\n",
       "  --background-color: var(--jp-layout-color0, white);\n",
       "  --background-color-row-even: var(--jp-layout-color1, white);\n",
       "  --background-color-row-odd: var(--jp-layout-color2, #eeeeee);\n",
       "}\n",
       "\n",
       "html[theme=\"dark\"],\n",
       "body[data-theme=\"dark\"],\n",
       "body.vscode-dark {\n",
       "  --font-color-primary: rgba(255, 255, 255, 1);\n",
       "  --font-color-secondary: rgba(255, 255, 255, 0.6);\n",
       "  --font-color-accent: rgb(173, 132, 190);\n",
       "  --border-color: #2e2e2e;\n",
       "  --background-color: #111111;\n",
       "  --background-color-row-even: #111111;\n",
       "  --background-color-row-odd: #313131;\n",
       "}\n",
       "\n",
       ".ee {\n",
       "  padding: 1em;\n",
       "  line-height: 1.5em;\n",
       "  min-width: 300px;\n",
       "  max-width: 1200px;\n",
       "  overflow-y: scroll;\n",
       "  max-height: 600px;\n",
       "  border: 1px solid var(--border-color);\n",
       "  font-family: monospace;\n",
       "}\n",
       "\n",
       ".ee li {\n",
       "  list-style-type: none;\n",
       "}\n",
       "\n",
       ".ee ul {\n",
       "  padding-left: 1.5em !important;\n",
       "  margin: 0;\n",
       "}\n",
       "\n",
       ".ee > ul {\n",
       "  padding-left: 0 !important;\n",
       "}\n",
       "\n",
       ".ee-open,\n",
       ".ee-shut {\n",
       "  color: var(--font-color-secondary);\n",
       "  cursor: pointer;\n",
       "  margin: 0;\n",
       "}\n",
       "\n",
       ".ee-open:hover,\n",
       ".ee-shut:hover {\n",
       "  color: var(--font-color-primary);\n",
       "}\n",
       "\n",
       ".ee-k {\n",
       "  color: var(--font-color-accent);\n",
       "  margin-right: 6px;\n",
       "}\n",
       "\n",
       ".ee-v {\n",
       "  color: var(--font-color-primary);\n",
       "}\n",
       "\n",
       ".ee-toggle {\n",
       "  display: none;\n",
       "}\n",
       "\n",
       ".ee-shut + ul {\n",
       "  display: none;\n",
       "}\n",
       "\n",
       ".ee-open + ul {\n",
       "  display: block;\n",
       "}\n",
       "\n",
       ".ee-shut::before {\n",
       "  display: inline-block;\n",
       "  content: \"▼\";\n",
       "  margin-right: 6px;\n",
       "  transform: rotate(-90deg);\n",
       "  transition: transform 0.2s;\n",
       "}\n",
       "\n",
       ".ee-open::before {\n",
       "  transform: rotate(0deg);\n",
       "  display: inline-block;\n",
       "  content: \"▼\";\n",
       "  margin-right: 6px;\n",
       "  transition: transform 0.2s;\n",
       "}\n",
       "</style><div class='ee'><ul><li><span class='ee-v'>0</span></li></ul></div><script>function toggleHeader() {\n",
       "    const parent = this.parentElement;\n",
       "    parent.className = parent.className === \"ee-open\" ? \"ee-shut\" : \"ee-open\";\n",
       "}\n",
       "\n",
       "for (let c of document.getElementsByClassName(\"ee-toggle\")) {\n",
       "    c.onclick = toggleHeader;\n",
       "}</script></div>"
      ],
      "text/plain": [
       "<ee.computedobject.ComputedObject at 0x2100c4907c0>"
      ]
     },
     "execution_count": 50,
     "metadata": {},
     "output_type": "execute_result"
    }
   ],
   "source": [
    "cumulative_ecdd_values"
   ]
  },
  {
   "cell_type": "code",
   "execution_count": null,
   "metadata": {},
   "outputs": [],
   "source": []
  }
 ],
 "metadata": {
  "kernelspec": {
   "display_name": "abtest",
   "language": "python",
   "name": "python3"
  },
  "language_info": {
   "codemirror_mode": {
    "name": "ipython",
    "version": 3
   },
   "file_extension": ".py",
   "mimetype": "text/x-python",
   "name": "python",
   "nbconvert_exporter": "python",
   "pygments_lexer": "ipython3",
   "version": "3.9.16"
  },
  "orig_nbformat": 4
 },
 "nbformat": 4,
 "nbformat_minor": 2
}
