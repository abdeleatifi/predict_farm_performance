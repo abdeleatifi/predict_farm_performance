{
 "cells": [
  {
   "attachments": {},
   "cell_type": "markdown",
   "metadata": {},
   "source": [
    "## get crop mask of the desired county and crop type of a specific year\n",
    "and also get do corespondent ndvi map mask of that crop\n"
   ]
  },
  {
   "cell_type": "code",
   "execution_count": null,
   "metadata": {},
   "outputs": [],
   "source": [
    "import ee\n",
    "import geemap\n",
    "import pandas as pd\n",
    "\n",
    "from ras_to_vec import *\n",
    "\n",
    "start = '2022-01-01'\n",
    "end = '2022-01-14'\n",
    "\n",
    "countyBoundary, winterWheatFC = ras_to_vec(20, 'Thomas', 2022)\n",
    "\n",
    "# Load a Sentinel-2 image\n",
    "s2 = ee.ImageCollection('COPERNICUS/S2_SR') \\\n",
    "    .filterBounds(countyBoundary) \\\n",
    "    .filterDate(start, end) \\\n",
    "    .filter(ee.Filter.lt('CLOUDY_PIXEL_PERCENTAGE', 100))\\\n",
    "\n",
    "\n",
    "\n",
    "# Get the first image in the collection\n",
    "s2m = ee.Image(s2.mosaic())\n",
    "\n",
    "# Calculate NDVI (Normalized Difference Vegetation Index)\n",
    "ndvi = s2m.normalizedDifference(['B8', 'B4'])\n",
    "\n",
    "# Clip the NDVI map with the winterWheatFC feature collection\n",
    "clippedNDVI = ndvi.clipToCollection(winterWheatFC)\n",
    "\n",
    "# Create a map and add the clipped NDVI map\n",
    "Map = geemap.Map(basemap = 'SATELLITE')\n",
    "Map.centerObject(winterWheatFC, 10)\n",
    "palette = ['blue', 'green', 'white']\n",
    "Map.addLayer(clippedNDVI, {'min': -1, 'max': 1, 'palette': 'Greens'}, 'Clipped NDVI')\n",
    "\n",
    "# Style the county boundary to show only the borders\n",
    "#Map.addLayer(countyBoundary, {'color': 'FF000000'}, 'County Boundary')\n",
    "Map.addLayer(winterWheatFC, {'color': 'FF000000'}, 'Winter Wheat FC')\n",
    "\n",
    "# Display the map\n",
    "Map.addLayerControl()\n",
    "Map"
   ]
  },
  {
   "cell_type": "code",
   "execution_count": null,
   "metadata": {},
   "outputs": [],
   "source": [
    "# Get the NDVI values as a list\n",
    "ndvi_list = clippedNDVI.reduceRegion(\n",
    "    reducer=ee.Reducer.toList(),\n",
    "    geometry=winterWheatFC,\n",
    "    scale=10,\n",
    ").get('nd').getInfo()\n",
    "\n",
    "# Print the NDVI values\n",
    "print(ndvi_list)"
   ]
  },
  {
   "cell_type": "code",
   "execution_count": null,
   "metadata": {},
   "outputs": [],
   "source": [
    "mean_ndvi = clippedNDVI.reduceRegion(\n",
    "    reducer=ee.Reducer.mean(),\n",
    "    geometry=winterWheatFC,\n",
    "    scale=30\n",
    ").getInfo().get('nd')\n",
    "\n",
    "mean_ndvi\n"
   ]
  },
  {
   "cell_type": "code",
   "execution_count": null,
   "metadata": {},
   "outputs": [],
   "source": [
    "winterWheatFC.size()"
   ]
  },
  {
   "cell_type": "code",
   "execution_count": null,
   "metadata": {},
   "outputs": [],
   "source": [
    "countyBoundary.size()"
   ]
  },
  {
   "cell_type": "code",
   "execution_count": null,
   "metadata": {},
   "outputs": [],
   "source": [
    "import glob\n",
    "import pandas as pd\n",
    "\n",
    "data_path = 'data/'\n",
    "\n",
    "csv_files = sorted(glob.glob(data_path + '*.csv'))\n",
    "\n",
    "# Initialize an empty DataFrame to store the combined data\n",
    "combined_df = pd.DataFrame()\n",
    "\n",
    "# Iterate over each CSV file\n",
    "for csv_file in csv_files:\n",
    "    # Read the CSV file into a DataFrame\n",
    "    df = pd.read_csv(csv_file)\n",
    "    \n",
    "    # Append the DataFrame to the combined_df\n",
    "    combined_df = combined_df.append(df, ignore_index=True)\n",
    "\n",
    "# Print the combined DataFrame\n",
    "combined_df\n"
   ]
  },
  {
   "cell_type": "code",
   "execution_count": null,
   "metadata": {},
   "outputs": [],
   "source": [
    "import pandas as pd\n",
    "\n",
    "df = pd.read_csv('data/loss_wheatwinter_countylevel_2000_2022.csv')\n",
    "df = df[df['County'] != 'OTHER (COMBINED) COUNTIES']\n",
    "# Reindex the DataFrame\n",
    "df = df.reset_index(drop=True)\n",
    "df"
   ]
  },
  {
   "cell_type": "code",
   "execution_count": null,
   "metadata": {},
   "outputs": [],
   "source": [
    "df.to_csv('data/1loss_wheatwinter_countylevel_2000_2022.csv')"
   ]
  },
  {
   "cell_type": "code",
   "execution_count": null,
   "metadata": {},
   "outputs": [],
   "source": [
    "import pandas as pd\n",
    "\n",
    "df = pd.read_csv('data/usda_loss_wheatwinter_countylevel_2000_2022.csv')\n",
    "\n",
    "df"
   ]
  }
 ],
 "metadata": {
  "kernelspec": {
   "display_name": "abtest",
   "language": "python",
   "name": "python3"
  },
  "language_info": {
   "codemirror_mode": {
    "name": "ipython",
    "version": 3
   },
   "file_extension": ".py",
   "mimetype": "text/x-python",
   "name": "python",
   "nbconvert_exporter": "python",
   "pygments_lexer": "ipython3",
   "version": "3.9.16"
  },
  "orig_nbformat": 4
 },
 "nbformat": 4,
 "nbformat_minor": 2
}
