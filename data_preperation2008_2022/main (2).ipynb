{
 "cells": [
  {
   "cell_type": "code",
   "execution_count": 7,
   "metadata": {},
   "outputs": [
    {
     "data": {
      "text/plain": [
       "28776"
      ]
     },
     "execution_count": 7,
     "metadata": {},
     "output_type": "execute_result"
    }
   ],
   "source": [
    "import pandas as pd\n",
    "\n",
    "# Define the path to your CSV file\n",
    "#csv_file_path = 'data\\loss_wheatwinter_countylevel_2000_2022.csv'\n",
    "csv_file_path = r'data/usda_loss_wheatwinter_countylevel_2000_2022.csv'\n",
    "\n",
    "# Load the CSV file into a dataframe\n",
    "df = pd.read_csv(csv_file_path)\n",
    "df.head(20)\n",
    "len(df)"
   ]
  },
  {
   "cell_type": "code",
   "execution_count": null,
   "metadata": {},
   "outputs": [],
   "source": [
    "import ee\n",
    "import pandas as pd\n",
    "from ras_to_vec import *\n",
    "import datetime\n",
    "\n",
    "countyBoundary, winterWheatFC = ras_to_vec(df.iloc[28709]['State ANSI'], df.iloc[28709]['County'], df.iloc[28709]['Year'])\n",
    "\n",
    "try:\n",
    "    ee.Initialize()\n",
    "except:\n",
    "    ee.Authenticate()\n",
    "    ee.Initialize()\n",
    "\n",
    "# Define the year\n",
    "year = int(df.iloc[28709]['Year'])\n",
    "\n",
    "# Set the initial date to the first day of the year\n",
    "start_date = datetime.datetime(year, 1, 1)\n",
    "\n",
    "df_28709 = pd.DataFrame({'id': [2]})\n",
    "\n",
    "# Iterate over each two-week period\n",
    "while date.year == year:\n",
    "    # Get the end date of the two-week period\n",
    "    end_date = date + datetime.timedelta(weeks=2) - datetime.timedelta(days=1)\n",
    "\n",
    "    # Load a Sentinel-2 image\n",
    "    s2 = ee.ImageCollection('COPERNICUS/S2_SR') \\\n",
    "        .filterBounds(countyBoundary) \\\n",
    "        .filterDate(date.strftime('%Y-%m-%d'), end_date.strftime('%Y-%m-%d')) \\\n",
    "        .filter(ee.Filter.lt('CLOUDY_PIXEL_PERCENTAGE', 100))\\\n",
    "    \n",
    "    # Get the first image in the collection\n",
    "    s2m = ee.Image(s2.mosaic())\n",
    "\n",
    "    # Calculate NDVI (Normalized Difference Vegetation Index)\n",
    "    ndvi = s2m.normalizedDifference(['B8', 'B4'])\n",
    "\n",
    "    # Clip the NDVI map with the winterWheatFC feature collection\n",
    "    clippedNDVI = ndvi.clipToCollection(winterWheatFC)\n",
    "\n",
    "    mean_ndvi = clippedNDVI.reduceRegion(\n",
    "        reducer=ee.Reducer.mean(),\n",
    "        geometry=winterWheatFC,\n",
    "        scale=30\n",
    "    ).getInfo().get('nd')\n",
    "\n",
    "    print(mean_ndvi)\n",
    "\n",
    "    # For example, print the start and end dates\n",
    "    print(date.strftime('%Y-%m-%d'))\n",
    "    print(end_date.strftime('%Y-%m-%d'))\n",
    "\n",
    "    df_28709[date.strftime('%Y-%m-%d')] = mean_ndvi\n",
    "\n",
    "    # Move to the next two-week period\n",
    "    date = end_date + datetime.timedelta(days=1)"
   ]
  },
  {
   "cell_type": "code",
   "execution_count": 1,
   "metadata": {},
   "outputs": [],
   "source": [
    "import ee\n",
    "import geemap\n",
    "import pandas as pd\n",
    "import folium\n",
    "\n",
    "try:\n",
    "    ee.Initialize()\n",
    "except:\n",
    "    ee.Authenticate()\n",
    "    ee.Initialize()\n",
    "\n",
    "state = str(20)\n",
    "year = str(2014)\n",
    "county = str('Thomas')\n",
    "\n",
    "# Define the boundary of Thomas County, Kansas\n",
    "countyBoundary = ee.FeatureCollection('TIGER/2018/Counties') \\\n",
    "    .filter(ee.Filter.eq('STATEFP', state)) \\\n",
    "    .filter(ee.Filter.eq('NAME', county)) \n",
    "\n",
    "\n",
    "start = year+'-01-01'\n",
    "end = year+'-12-31'\n",
    "# Load the CropScape data for the year 2022\n",
    "cropscape = ee.ImageCollection('USDA/NASS/CDL') \\\n",
    "    .filter(ee.Filter.date(start, end)) \\\n",
    "    .first()\n",
    "\n",
    "# Select winter wheat (crop code: 3) from the CropScape data\n",
    "winterWheat = cropscape.select('cropland') \\\n",
    "    .eq(24) \\\n",
    "    .selfMask()\n",
    "\n",
    "# Clip the winter wheat layer to Thomas County boundary\n",
    "winterWheatClip = winterWheat.clip(countyBoundary)\n",
    "\n",
    "\n",
    "# Convert the clipped layer to a FeatureCollection\n",
    "winterWheatFC = winterWheatClip.reduceToVectors(\n",
    "    geometry=countyBoundary,\n",
    "    scale=30,\n",
    "    geometryType='polygon',\n",
    "    eightConnected=False,\n",
    "    labelProperty='class'\n",
    ")"
   ]
  },
  {
   "cell_type": "code",
   "execution_count": 20,
   "metadata": {},
   "outputs": [
    {
     "ename": "EEException",
     "evalue": "ImageCollection.reduce: Image 1_1_20220105T173719_20220105T173743_T14SKJ has a missing or invalid WRS_PATH: null.",
     "output_type": "error",
     "traceback": [
      "\u001b[1;31m---------------------------------------------------------------------------\u001b[0m",
      "\u001b[1;31mHttpError\u001b[0m                                 Traceback (most recent call last)",
      "File \u001b[1;32mc:\\Users\\abdel\\anaconda3\\envs\\abtest\\lib\\site-packages\\ee\\data.py:337\u001b[0m, in \u001b[0;36m_execute_cloud_call\u001b[1;34m(call, num_retries)\u001b[0m\n\u001b[0;32m    336\u001b[0m \u001b[39mtry\u001b[39;00m:\n\u001b[1;32m--> 337\u001b[0m   \u001b[39mreturn\u001b[39;00m call\u001b[39m.\u001b[39;49mexecute(num_retries\u001b[39m=\u001b[39;49mnum_retries)\n\u001b[0;32m    338\u001b[0m \u001b[39mexcept\u001b[39;00m googleapiclient\u001b[39m.\u001b[39merrors\u001b[39m.\u001b[39mHttpError \u001b[39mas\u001b[39;00m e:\n",
      "File \u001b[1;32mc:\\Users\\abdel\\anaconda3\\envs\\abtest\\lib\\site-packages\\googleapiclient\\_helpers.py:130\u001b[0m, in \u001b[0;36mpositional.<locals>.positional_decorator.<locals>.positional_wrapper\u001b[1;34m(*args, **kwargs)\u001b[0m\n\u001b[0;32m    129\u001b[0m         logger\u001b[39m.\u001b[39mwarning(message)\n\u001b[1;32m--> 130\u001b[0m \u001b[39mreturn\u001b[39;00m wrapped(\u001b[39m*\u001b[39margs, \u001b[39m*\u001b[39m\u001b[39m*\u001b[39mkwargs)\n",
      "File \u001b[1;32mc:\\Users\\abdel\\anaconda3\\envs\\abtest\\lib\\site-packages\\googleapiclient\\http.py:938\u001b[0m, in \u001b[0;36mHttpRequest.execute\u001b[1;34m(self, http, num_retries)\u001b[0m\n\u001b[0;32m    937\u001b[0m \u001b[39mif\u001b[39;00m resp\u001b[39m.\u001b[39mstatus \u001b[39m>\u001b[39m\u001b[39m=\u001b[39m \u001b[39m300\u001b[39m:\n\u001b[1;32m--> 938\u001b[0m     \u001b[39mraise\u001b[39;00m HttpError(resp, content, uri\u001b[39m=\u001b[39m\u001b[39mself\u001b[39m\u001b[39m.\u001b[39muri)\n\u001b[0;32m    939\u001b[0m \u001b[39mreturn\u001b[39;00m \u001b[39mself\u001b[39m\u001b[39m.\u001b[39mpostproc(resp, content)\n",
      "\u001b[1;31mHttpError\u001b[0m: <HttpError 400 when requesting https://earthengine.googleapis.com/v1alpha/projects/earthengine-legacy/maps?fields=name&alt=json returned \"ImageCollection.reduce: Image 1_1_20220105T173719_20220105T173743_T14SKJ has a missing or invalid WRS_PATH: null.\". Details: \"ImageCollection.reduce: Image 1_1_20220105T173719_20220105T173743_T14SKJ has a missing or invalid WRS_PATH: null.\">",
      "\nDuring handling of the above exception, another exception occurred:\n",
      "\u001b[1;31mEEException\u001b[0m                               Traceback (most recent call last)",
      "Cell \u001b[1;32mIn[20], line 7\u001b[0m\n\u001b[0;32m      5\u001b[0m \u001b[39m# Visualize the Landsat composite\u001b[39;00m\n\u001b[0;32m      6\u001b[0m visParams \u001b[39m=\u001b[39m {\u001b[39m'\u001b[39m\u001b[39mbands\u001b[39m\u001b[39m'\u001b[39m: [\u001b[39m'\u001b[39m\u001b[39mB4\u001b[39m\u001b[39m'\u001b[39m, \u001b[39m'\u001b[39m\u001b[39mB3\u001b[39m\u001b[39m'\u001b[39m, \u001b[39m'\u001b[39m\u001b[39mB2\u001b[39m\u001b[39m'\u001b[39m], \u001b[39m'\u001b[39m\u001b[39mmin\u001b[39m\u001b[39m'\u001b[39m: \u001b[39m0\u001b[39m, \u001b[39m'\u001b[39m\u001b[39mmax\u001b[39m\u001b[39m'\u001b[39m: \u001b[39m0.3\u001b[39m}  \u001b[39m# Adjust the visualization parameters as needed\u001b[39;00m\n\u001b[1;32m----> 7\u001b[0m Map\u001b[39m.\u001b[39;49maddLayer(lands, visParams, \u001b[39m'\u001b[39;49m\u001b[39mLandsat Composite\u001b[39;49m\u001b[39m'\u001b[39;49m)\n\u001b[0;32m      8\u001b[0m \u001b[39m#Map.addLayer(clippedNDVI.select('nd'), {'min': -1, 'max': 1, 'palette': palette}, 'Clipped NDVI')\u001b[39;00m\n\u001b[0;32m      9\u001b[0m Map\u001b[39m.\u001b[39maddLayer(countyBoundary, {\u001b[39m'\u001b[39m\u001b[39mcolor\u001b[39m\u001b[39m'\u001b[39m: \u001b[39m'\u001b[39m\u001b[39mFF000000\u001b[39m\u001b[39m'\u001b[39m}, \u001b[39m'\u001b[39m\u001b[39mCounty Boundary\u001b[39m\u001b[39m'\u001b[39m)\n",
      "File \u001b[1;32mc:\\Users\\abdel\\anaconda3\\envs\\abtest\\lib\\site-packages\\geemap\\geemap.py:1492\u001b[0m, in \u001b[0;36mMap.add_ee_layer\u001b[1;34m(self, ee_object, vis_params, name, shown, opacity)\u001b[0m\n\u001b[0;32m   1487\u001b[0m     \u001b[39melif\u001b[39;00m \u001b[39mnot\u001b[39;00m \u001b[39misinstance\u001b[39m(vis_params[\u001b[39m\"\u001b[39m\u001b[39mpalette\u001b[39m\u001b[39m\"\u001b[39m], \u001b[39mlist\u001b[39m):\n\u001b[0;32m   1488\u001b[0m         \u001b[39mraise\u001b[39;00m \u001b[39mValueError\u001b[39;00m(\n\u001b[0;32m   1489\u001b[0m             \u001b[39m\"\u001b[39m\u001b[39mThe palette must be a list of colors or a string or a Box object.\u001b[39m\u001b[39m\"\u001b[39m\n\u001b[0;32m   1490\u001b[0m         )\n\u001b[1;32m-> 1492\u001b[0m map_id_dict \u001b[39m=\u001b[39m ee\u001b[39m.\u001b[39;49mImage(image)\u001b[39m.\u001b[39;49mgetMapId(vis_params)\n\u001b[0;32m   1493\u001b[0m url \u001b[39m=\u001b[39m map_id_dict[\u001b[39m\"\u001b[39m\u001b[39mtile_fetcher\u001b[39m\u001b[39m\"\u001b[39m]\u001b[39m.\u001b[39murl_format\n\u001b[0;32m   1494\u001b[0m tile_layer \u001b[39m=\u001b[39m ipyleaflet\u001b[39m.\u001b[39mTileLayer(\n\u001b[0;32m   1495\u001b[0m     url\u001b[39m=\u001b[39murl,\n\u001b[0;32m   1496\u001b[0m     attribution\u001b[39m=\u001b[39m\u001b[39m\"\u001b[39m\u001b[39mGoogle Earth Engine\u001b[39m\u001b[39m\"\u001b[39m,\n\u001b[1;32m   (...)\u001b[0m\n\u001b[0;32m   1500\u001b[0m     max_zoom\u001b[39m=\u001b[39m\u001b[39m24\u001b[39m,\n\u001b[0;32m   1501\u001b[0m )\n",
      "File \u001b[1;32mc:\\Users\\abdel\\anaconda3\\envs\\abtest\\lib\\site-packages\\ee\\image.py:130\u001b[0m, in \u001b[0;36mImage.getMapId\u001b[1;34m(self, vis_params)\u001b[0m\n\u001b[0;32m    128\u001b[0m vis_image, request \u001b[39m=\u001b[39m \u001b[39mself\u001b[39m\u001b[39m.\u001b[39m_apply_visualization(vis_params)\n\u001b[0;32m    129\u001b[0m request[\u001b[39m'\u001b[39m\u001b[39mimage\u001b[39m\u001b[39m'\u001b[39m] \u001b[39m=\u001b[39m vis_image\n\u001b[1;32m--> 130\u001b[0m response \u001b[39m=\u001b[39m data\u001b[39m.\u001b[39;49mgetMapId(request)\n\u001b[0;32m    131\u001b[0m response[\u001b[39m'\u001b[39m\u001b[39mimage\u001b[39m\u001b[39m'\u001b[39m] \u001b[39m=\u001b[39m \u001b[39mself\u001b[39m\n\u001b[0;32m    132\u001b[0m \u001b[39mreturn\u001b[39;00m response\n",
      "File \u001b[1;32mc:\\Users\\abdel\\anaconda3\\envs\\abtest\\lib\\site-packages\\ee\\data.py:635\u001b[0m, in \u001b[0;36mgetMapId\u001b[1;34m(params)\u001b[0m\n\u001b[0;32m    630\u001b[0m queryParams \u001b[39m=\u001b[39m {\n\u001b[0;32m    631\u001b[0m     \u001b[39m'\u001b[39m\u001b[39mfields\u001b[39m\u001b[39m'\u001b[39m: \u001b[39m'\u001b[39m\u001b[39mname\u001b[39m\u001b[39m'\u001b[39m,\n\u001b[0;32m    632\u001b[0m     \u001b[39m'\u001b[39m\u001b[39mbody\u001b[39m\u001b[39m'\u001b[39m: request,\n\u001b[0;32m    633\u001b[0m }\n\u001b[0;32m    634\u001b[0m _maybe_populate_workload_tag(queryParams)\n\u001b[1;32m--> 635\u001b[0m result \u001b[39m=\u001b[39m _execute_cloud_call(\n\u001b[0;32m    636\u001b[0m     _get_cloud_api_resource()\u001b[39m.\u001b[39;49mprojects()\u001b[39m.\u001b[39;49mmaps()\u001b[39m.\u001b[39;49mcreate(\n\u001b[0;32m    637\u001b[0m         parent\u001b[39m=\u001b[39;49m_get_projects_path(), \u001b[39m*\u001b[39;49m\u001b[39m*\u001b[39;49mqueryParams))\n\u001b[0;32m    638\u001b[0m map_name \u001b[39m=\u001b[39m result[\u001b[39m'\u001b[39m\u001b[39mname\u001b[39m\u001b[39m'\u001b[39m]\n\u001b[0;32m    639\u001b[0m url_format \u001b[39m=\u001b[39m \u001b[39m'\u001b[39m\u001b[39m%s\u001b[39;00m\u001b[39m/\u001b[39m\u001b[39m%s\u001b[39;00m\u001b[39m/\u001b[39m\u001b[39m%s\u001b[39;00m\u001b[39m/tiles/\u001b[39m\u001b[39m{z}\u001b[39;00m\u001b[39m/\u001b[39m\u001b[39m{x}\u001b[39;00m\u001b[39m/\u001b[39m\u001b[39m{y}\u001b[39;00m\u001b[39m'\u001b[39m \u001b[39m%\u001b[39m (\n\u001b[0;32m    640\u001b[0m     _tile_base_url, _cloud_api_utils\u001b[39m.\u001b[39mVERSION, map_name)\n",
      "File \u001b[1;32mc:\\Users\\abdel\\anaconda3\\envs\\abtest\\lib\\site-packages\\ee\\data.py:339\u001b[0m, in \u001b[0;36m_execute_cloud_call\u001b[1;34m(call, num_retries)\u001b[0m\n\u001b[0;32m    337\u001b[0m   \u001b[39mreturn\u001b[39;00m call\u001b[39m.\u001b[39mexecute(num_retries\u001b[39m=\u001b[39mnum_retries)\n\u001b[0;32m    338\u001b[0m \u001b[39mexcept\u001b[39;00m googleapiclient\u001b[39m.\u001b[39merrors\u001b[39m.\u001b[39mHttpError \u001b[39mas\u001b[39;00m e:\n\u001b[1;32m--> 339\u001b[0m   \u001b[39mraise\u001b[39;00m _translate_cloud_exception(e)\n",
      "\u001b[1;31mEEException\u001b[0m: ImageCollection.reduce: Image 1_1_20220105T173719_20220105T173743_T14SKJ has a missing or invalid WRS_PATH: null."
     ]
    }
   ],
   "source": [
    "\n",
    "# Create a map and add the clipped NDVI map\n",
    "Map = geemap.Map(basemap = 'SATELLITE')\n",
    "Map.centerObject(countyBoundary, 10)\n",
    "palette = ['blue', 'white', 'green']\n",
    "# Visualize the Landsat composite\n",
    "visParams = {'bands': ['B4', 'B3', 'B2'], 'min': 0, 'max': 0.3}  # Adjust the visualization parameters as needed\n",
    "Map.addLayer(lands, visParams, 'Landsat Composite')\n",
    "#Map.addLayer(clippedNDVI.select('nd'), {'min': -1, 'max': 1, 'palette': palette}, 'Clipped NDVI')\n",
    "Map.addLayer(countyBoundary, {'color': 'FF000000'}, 'County Boundary')\n",
    "#Map.addLayer(winterWheatFC, {'color': 'FF000000'}, 'Winter Wheat FC')\n",
    "#Map.addLayer(image, {'bands': ['B4', 'B3', 'B2'], 'min': 0, 'max': 3000}, 'Combined Image')\n",
    "\n",
    "# Display the map\n",
    "Map.addLayerControl()\n",
    "Map"
   ]
  },
  {
   "cell_type": "code",
   "execution_count": 2,
   "metadata": {},
   "outputs": [],
   "source": [
    "import pandas as pd\n",
    "\n",
    "# Define the path to your CSV file\n",
    "#csv_file_path = 'data\\loss_wheatwinter_countylevel_2000_2022.csv'\n",
    "csv_file_path = r'data/usda_loss_wheatwinter_countylevel_2000_2022.csv'\n",
    "\n",
    "# Load the CSV file into a dataframe\n",
    "df = pd.read_csv(csv_file_path)"
   ]
  },
  {
   "cell_type": "code",
   "execution_count": 3,
   "metadata": {},
   "outputs": [
    {
     "ename": "AttributeError",
     "evalue": "'Image' object has no attribute 'size'",
     "output_type": "error",
     "traceback": [
      "\u001b[1;31m---------------------------------------------------------------------------\u001b[0m",
      "\u001b[1;31mAttributeError\u001b[0m                            Traceback (most recent call last)",
      "Cell \u001b[1;32mIn[3], line 3\u001b[0m\n\u001b[0;32m      1\u001b[0m \u001b[39mfrom\u001b[39;00m \u001b[39mget_ndvi_serie\u001b[39;00m \u001b[39mimport\u001b[39;00m get_ndvi_serie\n\u001b[1;32m----> 3\u001b[0m get_ndvi_serie(df\u001b[39m.\u001b[39;49miloc[\u001b[39m26000\u001b[39;49m])\n",
      "File \u001b[1;32mc:\\Users\\abdel\\Desktop\\PFE\\ModelTesting\\farmer_credit_scoring\\crop_loss_estimation\\get_ndvi_serie.py:29\u001b[0m, in \u001b[0;36mget_ndvi_serie\u001b[1;34m(df)\u001b[0m\n\u001b[0;32m     24\u001b[0m \u001b[39mwhile\u001b[39;00m start_date\u001b[39m.\u001b[39myear \u001b[39m==\u001b[39m year:\n\u001b[0;32m     25\u001b[0m \n\u001b[0;32m     26\u001b[0m     \u001b[39m# Get the end date of the two-week period\u001b[39;00m\n\u001b[0;32m     27\u001b[0m     end_date \u001b[39m=\u001b[39m start_date \u001b[39m+\u001b[39m datetime\u001b[39m.\u001b[39mtimedelta(weeks\u001b[39m=\u001b[39m\u001b[39m2\u001b[39m) \u001b[39m-\u001b[39m datetime\u001b[39m.\u001b[39mtimedelta(days\u001b[39m=\u001b[39m\u001b[39m1\u001b[39m)\n\u001b[1;32m---> 29\u001b[0m     mean_ndvi \u001b[39m=\u001b[39m retrieve_mean_ndvi(start_date, end_date, countyBoundary, winterWheatFC)\n\u001b[0;32m     31\u001b[0m     \u001b[39mprint\u001b[39m(mean_ndvi)\n\u001b[0;32m     33\u001b[0m     df[start_date\u001b[39m.\u001b[39mstrftime(\u001b[39m'\u001b[39m\u001b[39m%\u001b[39m\u001b[39mY-\u001b[39m\u001b[39m%\u001b[39m\u001b[39mm-\u001b[39m\u001b[39m%d\u001b[39;00m\u001b[39m'\u001b[39m)] \u001b[39m=\u001b[39m mean_ndvi\n",
      "File \u001b[1;32mc:\\Users\\abdel\\Desktop\\PFE\\ModelTesting\\farmer_credit_scoring\\crop_loss_estimation\\retrieve_mean_ndvi.py:30\u001b[0m, in \u001b[0;36mretrieve_mean_ndvi\u001b[1;34m(start_date, end_date, countyBoundary, winterWheatFC)\u001b[0m\n\u001b[0;32m     22\u001b[0m landsat7 \u001b[39m=\u001b[39m ee\u001b[39m.\u001b[39mImageCollection(\u001b[39m'\u001b[39m\u001b[39mLANDSAT/LE07/C02/T1\u001b[39m\u001b[39m'\u001b[39m)\\\n\u001b[0;32m     23\u001b[0m         \u001b[39m.\u001b[39mfilterBounds(countyBoundary) \\\n\u001b[0;32m     24\u001b[0m         \u001b[39m.\u001b[39mfilterDate(start_date, end_date)\n\u001b[0;32m     26\u001b[0m landsat8 \u001b[39m=\u001b[39m ee\u001b[39m.\u001b[39mImageCollection(\u001b[39m'\u001b[39m\u001b[39mLANDSAT/LC08/C02/T1\u001b[39m\u001b[39m'\u001b[39m)\\\n\u001b[0;32m     27\u001b[0m         \u001b[39m.\u001b[39mfilterBounds(countyBoundary) \\\n\u001b[0;32m     28\u001b[0m         \u001b[39m.\u001b[39mfilterDate(start_date, end_date)\n\u001b[1;32m---> 30\u001b[0m \u001b[39mif\u001b[39;00m landsat7\u001b[39m.\u001b[39msize()\u001b[39m.\u001b[39mgetInfo() \u001b[39m>\u001b[39m \u001b[39m0\u001b[39m \u001b[39mand\u001b[39;00m landsat8\u001b[39m.\u001b[39msize()\u001b[39m.\u001b[39mgetInfo() \u001b[39m>\u001b[39m \u001b[39m0\u001b[39m \u001b[39mand\u001b[39;00m sentinel2\u001b[39m.\u001b[39;49msize()\u001b[39m.\u001b[39mgetInfo() \u001b[39m>\u001b[39m \u001b[39m0\u001b[39m:\n\u001b[0;32m     32\u001b[0m     landsat8 \u001b[39m=\u001b[39m ee\u001b[39m.\u001b[39mAlgorithms\u001b[39m.\u001b[39mLandsat\u001b[39m.\u001b[39msimpleComposite(landsat8)\n\u001b[0;32m     33\u001b[0m     landsat7 \u001b[39m=\u001b[39m ee\u001b[39m.\u001b[39mAlgorithms\u001b[39m.\u001b[39mLandsat\u001b[39m.\u001b[39msimpleComposite(landsat7)\n",
      "\u001b[1;31mAttributeError\u001b[0m: 'Image' object has no attribute 'size'"
     ]
    }
   ],
   "source": [
    "from get_ndvi_serie import get_ndvi_serie\n",
    "\n",
    "get_ndvi_serie(df.iloc[26000])"
   ]
  },
  {
   "cell_type": "code",
   "execution_count": 8,
   "metadata": {},
   "outputs": [],
   "source": [
    "from ras_to_vec import ras_to_vec\n",
    "countyBoundary, winterWheatFC = ras_to_vec(20, 'Thomas', 2006)"
   ]
  },
  {
   "cell_type": "code",
   "execution_count": 9,
   "metadata": {},
   "outputs": [
    {
     "data": {
      "text/plain": [
       "1"
      ]
     },
     "execution_count": 9,
     "metadata": {},
     "output_type": "execute_result"
    }
   ],
   "source": [
    "countyBoundary.size().getInfo()"
   ]
  },
  {
   "cell_type": "code",
   "execution_count": 10,
   "metadata": {},
   "outputs": [
    {
     "data": {
      "text/plain": [
       "5378"
      ]
     },
     "execution_count": 10,
     "metadata": {},
     "output_type": "execute_result"
    }
   ],
   "source": [
    "winterWheatFC.size().getInfo()"
   ]
  },
  {
   "cell_type": "code",
   "execution_count": null,
   "metadata": {},
   "outputs": [],
   "source": []
  }
 ],
 "metadata": {
  "kernelspec": {
   "display_name": "abtest",
   "language": "python",
   "name": "python3"
  },
  "language_info": {
   "codemirror_mode": {
    "name": "ipython",
    "version": 3
   },
   "file_extension": ".py",
   "mimetype": "text/x-python",
   "name": "python",
   "nbconvert_exporter": "python",
   "pygments_lexer": "ipython3",
   "version": "3.9.16"
  },
  "orig_nbformat": 4
 },
 "nbformat": 4,
 "nbformat_minor": 2
}
