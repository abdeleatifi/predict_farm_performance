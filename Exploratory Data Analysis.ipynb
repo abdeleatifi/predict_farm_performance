{
 "cells": [
  {
   "attachments": {},
   "cell_type": "markdown",
   "metadata": {},
   "source": [
    "# Exploratory Data Analysis (EDA)"
   ]
  },
  {
   "cell_type": "code",
   "execution_count": null,
   "metadata": {},
   "outputs": [],
   "source": [
    "import matplotlib.pyplot as plt\n",
    "import seaborn as sns"
   ]
  },
  {
   "cell_type": "code",
   "execution_count": null,
   "metadata": {},
   "outputs": [],
   "source": [
    "import pandas as pd\n",
    "\n",
    "# Define the path to your CSV file\n",
    "csv_file_path = r'data/usda_loss_wheatwinter_countylevel_2015_2022.csv'\n",
    "\n",
    "# Load the CSV file into a dataframe\n",
    "df = pd.read_csv(csv_file_path)\n",
    "\n",
    "ndviserie_imputed = df.iloc[:, 10:]"
   ]
  },
  {
   "cell_type": "code",
   "execution_count": null,
   "metadata": {},
   "outputs": [],
   "source": [
    "summary_stats = ndviserie_imputed.describe()\n",
    "print(summary_stats)"
   ]
  },
  {
   "cell_type": "code",
   "execution_count": null,
   "metadata": {},
   "outputs": [],
   "source": [
    "correlation_matrix = ndviserie_imputed.corr()\n",
    "plt.figure(figsize=(12, 8))\n",
    "sns.heatmap(correlation_matrix, annot=True, cmap='coolwarm')\n",
    "plt.title('Correlation Matrix')\n",
    "plt.show()"
   ]
  },
  {
   "cell_type": "code",
   "execution_count": null,
   "metadata": {},
   "outputs": [],
   "source": [
    "plt.figure(figsize=(10, 6))\n",
    "sns.histplot(data=ndviserie_imputed, x='loss', kde=True)\n",
    "plt.title('Distribution of Loss')\n",
    "plt.show()\n",
    "\n",
    "for column in ndviserie_imputed.columns[:-1]:\n",
    "    plt.figure(figsize=(10, 6))\n",
    "    sns.histplot(data=ndviserie_imputed, x=column, kde=True)\n",
    "    plt.title(f'Distribution of {column}')\n",
    "    plt.show()"
   ]
  },
  {
   "cell_type": "code",
   "execution_count": null,
   "metadata": {},
   "outputs": [],
   "source": [
    "for column in ndviserie_imputed.columns[:-1]:\n",
    "    plt.figure(figsize=(10, 6))\n",
    "    sns.scatterplot(data=ndviserie_imputed, x=column, y='loss')\n",
    "    plt.title(f'{column} vs. Loss')\n",
    "    plt.show()"
   ]
  }
 ],
 "metadata": {
  "language_info": {
   "name": "python"
  },
  "orig_nbformat": 4
 },
 "nbformat": 4,
 "nbformat_minor": 2
}
