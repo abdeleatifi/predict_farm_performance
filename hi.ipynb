{
 "cells": [
  {
   "cell_type": "code",
   "execution_count": 1,
   "metadata": {},
   "outputs": [],
   "source": [
    "import pandas as pd\n",
    "import numpy as np\n",
    "\n",
    "# Define the column names\n",
    "columns = ['Farmer ID', 'Gender', 'Age', 'Education Level', 'Marital Status',\n",
    "           'Farm Size (Acres)', 'Crop Yield (kg/acre)', 'Annual Income (USD)',\n",
    "           'Debt (USD)', 'Credit Score']\n",
    "\n",
    "# Define some example data\n",
    "data = {'Farmer ID': np.arange(1, 21),\n",
    "        'Gender': np.random.choice(['M', 'F'], size=20),\n",
    "        'Age': np.random.randint(25, 60, size=20),\n",
    "        'Education Level': np.random.choice(['Primary', 'Secondary', 'Tertiary'], size=20),\n",
    "        'Marital Status': np.random.choice(['Married', 'Single'], size=20),\n",
    "        'Farm Size (Acres)': np.random.randint(2, 20, size=20),\n",
    "        'Crop Yield (kg/acre)': np.random.randint(1000, 5000, size=20),\n",
    "        'Annual Income (USD)': np.random.randint(10000, 50000, size=20),\n",
    "        'Debt (USD)': np.random.randint(0, 10000, size=20),\n",
    "        'Credit Score': np.random.randint(300, 850, size=20)}\n",
    "\n",
    "# Create the DataFrame\n",
    "farmers_df = pd.DataFrame(data=data, columns=columns)"
   ]
  },
  {
   "cell_type": "code",
   "execution_count": 3,
   "metadata": {},
   "outputs": [
    {
     "data": {
      "text/plain": [
       "26"
      ]
     },
     "execution_count": 3,
     "metadata": {},
     "output_type": "execute_result"
    }
   ],
   "source": [
    "farmers_df.Age[0]"
   ]
  },
  {
   "cell_type": "code",
   "execution_count": null,
   "metadata": {},
   "outputs": [],
   "source": []
  }
 ],
 "metadata": {
  "kernelspec": {
   "display_name": "abtest",
   "language": "python",
   "name": "python3"
  },
  "language_info": {
   "codemirror_mode": {
    "name": "ipython",
    "version": 3
   },
   "file_extension": ".py",
   "mimetype": "text/x-python",
   "name": "python",
   "nbconvert_exporter": "python",
   "pygments_lexer": "ipython3",
   "version": "3.10.10"
  },
  "orig_nbformat": 4
 },
 "nbformat": 4,
 "nbformat_minor": 2
}
