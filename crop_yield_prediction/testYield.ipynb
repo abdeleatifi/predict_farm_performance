{
 "cells": [
  {
   "cell_type": "code",
   "execution_count": 1,
   "metadata": {},
   "outputs": [],
   "source": [
    "import pcse\n",
    "import pandas as pd"
   ]
  },
  {
   "cell_type": "code",
   "execution_count": 2,
   "metadata": {},
   "outputs": [
    {
     "name": "stderr",
     "output_type": "stream",
     "text": [
      "c:\\Users\\abdel\\anaconda3\\envs\\abtest\\lib\\site-packages\\pcse\\db\\pcse\\db_input.py:652: SAWarning: Dialect sqlite+pysqlite does *not* support Decimal objects natively, and SQLAlchemy must convert from floating point - rounding errors and other issues may occur. Please consider storing Decimal numbers as strings or integers on this platform for lossless storage.\n",
      "  r = select([table_site],\n",
      "c:\\Users\\abdel\\anaconda3\\envs\\abtest\\lib\\site-packages\\pcse\\db\\pcse\\db_input.py:127: SAWarning: Dialect sqlite+pysqlite does *not* support Decimal objects natively, and SQLAlchemy must convert from floating point - rounding errors and other issues may occur. Please consider storing Decimal numbers as strings or integers on this platform for lossless storage.\n",
      "  r = s.execute()\n",
      "c:\\Users\\abdel\\anaconda3\\envs\\abtest\\lib\\site-packages\\pcse\\db\\pcse\\db_input.py:183: SAWarning: Dialect sqlite+pysqlite does *not* support Decimal objects natively, and SQLAlchemy must convert from floating point - rounding errors and other issues may occur. Please consider storing Decimal numbers as strings or integers on this platform for lossless storage.\n",
      "  r = s.execute()\n",
      "c:\\Users\\abdel\\anaconda3\\envs\\abtest\\lib\\site-packages\\pcse\\db\\pcse\\db_input.py:493: SAWarning: Dialect sqlite+pysqlite does *not* support Decimal objects natively, and SQLAlchemy must convert from floating point - rounding errors and other issues may occur. Please consider storing Decimal numbers as strings or integers on this platform for lossless storage.\n",
      "  cursor = select([table_soil_layers.c.thickness,\n",
      "c:\\Users\\abdel\\anaconda3\\envs\\abtest\\lib\\site-packages\\pcse\\db\\pcse\\db_input.py:522: SAWarning: Dialect sqlite+pysqlite does *not* support Decimal objects natively, and SQLAlchemy must convert from floating point - rounding errors and other issues may occur. Please consider storing Decimal numbers as strings or integers on this platform for lossless storage.\n",
      "  r = select([table_soil_pg],\n"
     ]
    },
    {
     "data": {
      "text/plain": [
       "pcse.models.Wofost72_WLP_FD"
      ]
     },
     "execution_count": 2,
     "metadata": {},
     "output_type": "execute_result"
    }
   ],
   "source": [
    "wofost_object = pcse.start_wofost(grid=31031, crop=1, year=2000, mode='wlp')\n",
    "type(wofost_object)"
   ]
  },
  {
   "cell_type": "code",
   "execution_count": 3,
   "metadata": {},
   "outputs": [],
   "source": [
    "wofost_object.run(days=10)"
   ]
  },
  {
   "cell_type": "code",
   "execution_count": 4,
   "metadata": {},
   "outputs": [
    {
     "data": {
      "text/plain": [
       "0.2710284037925293"
      ]
     },
     "execution_count": 4,
     "metadata": {},
     "output_type": "execute_result"
    }
   ],
   "source": [
    "wofost_object.get_variable('LAI')"
   ]
  },
  {
   "cell_type": "code",
   "execution_count": 5,
   "metadata": {},
   "outputs": [],
   "source": [
    "wofost_object.run_till_terminate()"
   ]
  },
  {
   "cell_type": "code",
   "execution_count": 6,
   "metadata": {},
   "outputs": [],
   "source": [
    "output = wofost_object.get_output()"
   ]
  },
  {
   "cell_type": "code",
   "execution_count": 7,
   "metadata": {},
   "outputs": [],
   "source": [
    "df = pd.DataFrame(output)"
   ]
  },
  {
   "cell_type": "code",
   "execution_count": 8,
   "metadata": {},
   "outputs": [
    {
     "data": {
      "text/html": [
       "<div>\n",
       "<style scoped>\n",
       "    .dataframe tbody tr th:only-of-type {\n",
       "        vertical-align: middle;\n",
       "    }\n",
       "\n",
       "    .dataframe tbody tr th {\n",
       "        vertical-align: top;\n",
       "    }\n",
       "\n",
       "    .dataframe thead th {\n",
       "        text-align: right;\n",
       "    }\n",
       "</style>\n",
       "<table border=\"1\" class=\"dataframe\">\n",
       "  <thead>\n",
       "    <tr style=\"text-align: right;\">\n",
       "      <th></th>\n",
       "      <th>day</th>\n",
       "      <th>DVS</th>\n",
       "      <th>LAI</th>\n",
       "      <th>TAGP</th>\n",
       "      <th>TWSO</th>\n",
       "      <th>TWLV</th>\n",
       "      <th>TWST</th>\n",
       "      <th>TWRT</th>\n",
       "      <th>TRA</th>\n",
       "      <th>RD</th>\n",
       "      <th>SM</th>\n",
       "      <th>WWLOW</th>\n",
       "    </tr>\n",
       "  </thead>\n",
       "  <tbody>\n",
       "    <tr>\n",
       "      <th>0</th>\n",
       "      <td>2000-01-01</td>\n",
       "      <td>0.000000</td>\n",
       "      <td>0.144690</td>\n",
       "      <td>105.000000</td>\n",
       "      <td>0.0</td>\n",
       "      <td>68.250000</td>\n",
       "      <td>36.750000</td>\n",
       "      <td>105.000000</td>\n",
       "      <td>0.005768</td>\n",
       "      <td>10.0</td>\n",
       "      <td>0.250000</td>\n",
       "      <td>19.090000</td>\n",
       "    </tr>\n",
       "    <tr>\n",
       "      <th>1</th>\n",
       "      <td>2000-01-02</td>\n",
       "      <td>0.008867</td>\n",
       "      <td>0.154184</td>\n",
       "      <td>111.889710</td>\n",
       "      <td>0.0</td>\n",
       "      <td>72.728312</td>\n",
       "      <td>39.161399</td>\n",
       "      <td>111.889710</td>\n",
       "      <td>0.003312</td>\n",
       "      <td>11.2</td>\n",
       "      <td>0.253925</td>\n",
       "      <td>18.337965</td>\n",
       "    </tr>\n",
       "    <tr>\n",
       "      <th>2</th>\n",
       "      <td>2000-01-03</td>\n",
       "      <td>0.017157</td>\n",
       "      <td>0.164025</td>\n",
       "      <td>119.031178</td>\n",
       "      <td>0.0</td>\n",
       "      <td>77.370266</td>\n",
       "      <td>41.660912</td>\n",
       "      <td>119.031178</td>\n",
       "      <td>0.002589</td>\n",
       "      <td>12.4</td>\n",
       "      <td>0.258804</td>\n",
       "      <td>18.322171</td>\n",
       "    </tr>\n",
       "    <tr>\n",
       "      <th>3</th>\n",
       "      <td>2000-01-04</td>\n",
       "      <td>0.024293</td>\n",
       "      <td>0.173908</td>\n",
       "      <td>126.203520</td>\n",
       "      <td>0.0</td>\n",
       "      <td>82.032288</td>\n",
       "      <td>44.171232</td>\n",
       "      <td>126.203520</td>\n",
       "      <td>0.006309</td>\n",
       "      <td>13.6</td>\n",
       "      <td>0.263165</td>\n",
       "      <td>18.311042</td>\n",
       "    </tr>\n",
       "    <tr>\n",
       "      <th>4</th>\n",
       "      <td>2000-01-05</td>\n",
       "      <td>0.032706</td>\n",
       "      <td>0.185033</td>\n",
       "      <td>134.276367</td>\n",
       "      <td>0.0</td>\n",
       "      <td>87.279639</td>\n",
       "      <td>46.996729</td>\n",
       "      <td>134.276367</td>\n",
       "      <td>0.003616</td>\n",
       "      <td>14.8</td>\n",
       "      <td>0.266002</td>\n",
       "      <td>18.287827</td>\n",
       "    </tr>\n",
       "  </tbody>\n",
       "</table>\n",
       "</div>"
      ],
      "text/plain": [
       "          day       DVS       LAI        TAGP  TWSO       TWLV       TWST  \\\n",
       "0  2000-01-01  0.000000  0.144690  105.000000   0.0  68.250000  36.750000   \n",
       "1  2000-01-02  0.008867  0.154184  111.889710   0.0  72.728312  39.161399   \n",
       "2  2000-01-03  0.017157  0.164025  119.031178   0.0  77.370266  41.660912   \n",
       "3  2000-01-04  0.024293  0.173908  126.203520   0.0  82.032288  44.171232   \n",
       "4  2000-01-05  0.032706  0.185033  134.276367   0.0  87.279639  46.996729   \n",
       "\n",
       "         TWRT       TRA    RD        SM      WWLOW  \n",
       "0  105.000000  0.005768  10.0  0.250000  19.090000  \n",
       "1  111.889710  0.003312  11.2  0.253925  18.337965  \n",
       "2  119.031178  0.002589  12.4  0.258804  18.322171  \n",
       "3  126.203520  0.006309  13.6  0.263165  18.311042  \n",
       "4  134.276367  0.003616  14.8  0.266002  18.287827  "
      ]
     },
     "execution_count": 8,
     "metadata": {},
     "output_type": "execute_result"
    }
   ],
   "source": [
    "df.head()"
   ]
  },
  {
   "cell_type": "code",
   "execution_count": 10,
   "metadata": {},
   "outputs": [],
   "source": [
    "summary_output = wofost_object.get_summary_output()"
   ]
  },
  {
   "cell_type": "code",
   "execution_count": 12,
   "metadata": {},
   "outputs": [
    {
     "data": {
      "text/plain": [
       "[{'DVS': 2.0,\n",
       "  'LAIMAX': 6.132713013415593,\n",
       "  'TAGP': 15261.754008006244,\n",
       "  'TWSO': 7179.804492059393,\n",
       "  'TWLV': 3029.370473898692,\n",
       "  'TWST': 5052.57904204816,\n",
       "  'TWRT': 1546.9912279812847,\n",
       "  'CTRAT': 22.457533447526988,\n",
       "  'RD': 60.0,\n",
       "  'DOS': None,\n",
       "  'DOE': datetime.date(2000, 1, 1),\n",
       "  'DOA': datetime.date(2000, 3, 28),\n",
       "  'DOM': datetime.date(2000, 5, 31),\n",
       "  'DOH': None,\n",
       "  'DOV': None,\n",
       "  'CEVST': 6.594985673113074}]"
      ]
     },
     "execution_count": 12,
     "metadata": {},
     "output_type": "execute_result"
    }
   ],
   "source": [
    "summary_output"
   ]
  },
  {
   "cell_type": "code",
   "execution_count": null,
   "metadata": {},
   "outputs": [],
   "source": [
    "from pcse.fileinput import CABOFileReader\n",
    "cropfile = os.path.join('./data/crop', 'crop', 'SUG0601.crop')\n",
    "cropd = CABOFileReader(cropfile)"
   ]
  }
 ],
 "metadata": {
  "kernelspec": {
   "display_name": "abtest",
   "language": "python",
   "name": "python3"
  },
  "language_info": {
   "codemirror_mode": {
    "name": "ipython",
    "version": 3
   },
   "file_extension": ".py",
   "mimetype": "text/x-python",
   "name": "python",
   "nbconvert_exporter": "python",
   "pygments_lexer": "ipython3",
   "version": "3.9.16"
  },
  "orig_nbformat": 4
 },
 "nbformat": 4,
 "nbformat_minor": 2
}
