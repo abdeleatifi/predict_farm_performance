{
 "cells": [
  {
   "cell_type": "code",
   "execution_count": 3,
   "metadata": {},
   "outputs": [],
   "source": [
    "import ee\n",
    "# 4/1AbUR2VMW47-qgAo_uhtAgEKMAnprGHtTRT7kroWGSkumiWl3X9TUeDRzwOY\n",
    "# Authenticate to Earth Engine\n",
    "#ee.Authenticate()\n",
    "ee.Initialize()"
   ]
  },
  {
   "cell_type": "code",
   "execution_count": 14,
   "metadata": {},
   "outputs": [],
   "source": [
    "# Define the time range\n",
    "start_date = '2023-01-01'\n",
    "end_date = '2023-01-30'\n",
    "\n",
    "# Define the AOI as a polygon\n",
    "aoi = ee.Geometry.Polygon([[-7.791558613934031,33.01490300783628], [-7.792003860630503,33.01324314924896], [-7.788286318935862,33.01286529089581], [-7.788710107960215,33.014507163639024], [-7.791558613934031,33.01490300783628]])"
   ]
  },
  {
   "cell_type": "code",
   "execution_count": 18,
   "metadata": {},
   "outputs": [],
   "source": [
    "# Load the Sentinel-2 L2A collection\n",
    "s2 = ee.ImageCollection('COPERNICUS/S2_SR') \\\n",
    "        .filterDate(start_date, end_date) \\\n",
    "        .filterBounds(aoi) \\\n",
    "        .filter(ee.Filter.lt('CLOUDY_PIXEL_PERCENTAGE', 20)) \\\n",
    "        .map(lambda image: image.addBands(image.normalizedDifference(['B8', 'B4']).rename('NDVI')))"
   ]
  },
  {
   "cell_type": "code",
   "execution_count": 19,
   "metadata": {},
   "outputs": [
    {
     "name": "stdout",
     "output_type": "stream",
     "text": [
      "Number of images:  3\n",
      "First image:  {'type': 'Image', 'bands': [{'id': 'B1', 'data_type': {'type': 'PixelType', 'precision': 'int', 'min': 0, 'max': 65535}, 'dimensions': [1830, 1830], 'crs': 'EPSG:32629', 'crs_transform': [60, 0, 600000, 0, -60, 3700020]}, {'id': 'B2', 'data_type': {'type': 'PixelType', 'precision': 'int', 'min': 0, 'max': 65535}, 'dimensions': [10980, 10980], 'crs': 'EPSG:32629', 'crs_transform': [10, 0, 600000, 0, -10, 3700020]}, {'id': 'B3', 'data_type': {'type': 'PixelType', 'precision': 'int', 'min': 0, 'max': 65535}, 'dimensions': [10980, 10980], 'crs': 'EPSG:32629', 'crs_transform': [10, 0, 600000, 0, -10, 3700020]}, {'id': 'B4', 'data_type': {'type': 'PixelType', 'precision': 'int', 'min': 0, 'max': 65535}, 'dimensions': [10980, 10980], 'crs': 'EPSG:32629', 'crs_transform': [10, 0, 600000, 0, -10, 3700020]}, {'id': 'B5', 'data_type': {'type': 'PixelType', 'precision': 'int', 'min': 0, 'max': 65535}, 'dimensions': [5490, 5490], 'crs': 'EPSG:32629', 'crs_transform': [20, 0, 600000, 0, -20, 3700020]}, {'id': 'B6', 'data_type': {'type': 'PixelType', 'precision': 'int', 'min': 0, 'max': 65535}, 'dimensions': [5490, 5490], 'crs': 'EPSG:32629', 'crs_transform': [20, 0, 600000, 0, -20, 3700020]}, {'id': 'B7', 'data_type': {'type': 'PixelType', 'precision': 'int', 'min': 0, 'max': 65535}, 'dimensions': [5490, 5490], 'crs': 'EPSG:32629', 'crs_transform': [20, 0, 600000, 0, -20, 3700020]}, {'id': 'B8', 'data_type': {'type': 'PixelType', 'precision': 'int', 'min': 0, 'max': 65535}, 'dimensions': [10980, 10980], 'crs': 'EPSG:32629', 'crs_transform': [10, 0, 600000, 0, -10, 3700020]}, {'id': 'B8A', 'data_type': {'type': 'PixelType', 'precision': 'int', 'min': 0, 'max': 65535}, 'dimensions': [5490, 5490], 'crs': 'EPSG:32629', 'crs_transform': [20, 0, 600000, 0, -20, 3700020]}, {'id': 'B9', 'data_type': {'type': 'PixelType', 'precision': 'int', 'min': 0, 'max': 65535}, 'dimensions': [1830, 1830], 'crs': 'EPSG:32629', 'crs_transform': [60, 0, 600000, 0, -60, 3700020]}, {'id': 'B11', 'data_type': {'type': 'PixelType', 'precision': 'int', 'min': 0, 'max': 65535}, 'dimensions': [5490, 5490], 'crs': 'EPSG:32629', 'crs_transform': [20, 0, 600000, 0, -20, 3700020]}, {'id': 'B12', 'data_type': {'type': 'PixelType', 'precision': 'int', 'min': 0, 'max': 65535}, 'dimensions': [5490, 5490], 'crs': 'EPSG:32629', 'crs_transform': [20, 0, 600000, 0, -20, 3700020]}, {'id': 'AOT', 'data_type': {'type': 'PixelType', 'precision': 'int', 'min': 0, 'max': 65535}, 'dimensions': [10980, 10980], 'crs': 'EPSG:32629', 'crs_transform': [10, 0, 600000, 0, -10, 3700020]}, {'id': 'WVP', 'data_type': {'type': 'PixelType', 'precision': 'int', 'min': 0, 'max': 65535}, 'dimensions': [10980, 10980], 'crs': 'EPSG:32629', 'crs_transform': [10, 0, 600000, 0, -10, 3700020]}, {'id': 'SCL', 'data_type': {'type': 'PixelType', 'precision': 'int', 'min': 0, 'max': 255}, 'dimensions': [5490, 5490], 'crs': 'EPSG:32629', 'crs_transform': [20, 0, 600000, 0, -20, 3700020]}, {'id': 'TCI_R', 'data_type': {'type': 'PixelType', 'precision': 'int', 'min': 0, 'max': 255}, 'dimensions': [10980, 10980], 'crs': 'EPSG:32629', 'crs_transform': [10, 0, 600000, 0, -10, 3700020]}, {'id': 'TCI_G', 'data_type': {'type': 'PixelType', 'precision': 'int', 'min': 0, 'max': 255}, 'dimensions': [10980, 10980], 'crs': 'EPSG:32629', 'crs_transform': [10, 0, 600000, 0, -10, 3700020]}, {'id': 'TCI_B', 'data_type': {'type': 'PixelType', 'precision': 'int', 'min': 0, 'max': 255}, 'dimensions': [10980, 10980], 'crs': 'EPSG:32629', 'crs_transform': [10, 0, 600000, 0, -10, 3700020]}, {'id': 'MSK_CLDPRB', 'data_type': {'type': 'PixelType', 'precision': 'int', 'min': 0, 'max': 255}, 'dimensions': [5490, 5490], 'crs': 'EPSG:32629', 'crs_transform': [20, 0, 600000, 0, -20, 3700020]}, {'id': 'MSK_SNWPRB', 'data_type': {'type': 'PixelType', 'precision': 'int', 'min': 0, 'max': 255}, 'dimensions': [5490, 5490], 'crs': 'EPSG:32629', 'crs_transform': [20, 0, 600000, 0, -20, 3700020]}, {'id': 'QA10', 'data_type': {'type': 'PixelType', 'precision': 'int', 'min': 0, 'max': 65535}, 'dimensions': [10980, 10980], 'crs': 'EPSG:32629', 'crs_transform': [10, 0, 600000, 0, -10, 3700020]}, {'id': 'QA20', 'data_type': {'type': 'PixelType', 'precision': 'int', 'min': 0, 'max': 4294967295}, 'dimensions': [5490, 5490], 'crs': 'EPSG:32629', 'crs_transform': [20, 0, 600000, 0, -20, 3700020]}, {'id': 'QA60', 'data_type': {'type': 'PixelType', 'precision': 'int', 'min': 0, 'max': 65535}, 'dimensions': [1830, 1830], 'crs': 'EPSG:32629', 'crs_transform': [60, 0, 600000, 0, -60, 3700020]}, {'id': 'NDVI', 'data_type': {'type': 'PixelType', 'precision': 'float', 'min': -1, 'max': 1}, 'dimensions': [10980, 10980], 'crs': 'EPSG:32629', 'crs_transform': [10, 0, 600000, 0, -10, 3700020]}], 'id': 'COPERNICUS/S2_SR/20230106T111349_20230106T111343_T29SPS', 'version': 1673040745402205, 'properties': {'SPACECRAFT_NAME': 'Sentinel-2B', 'SATURATED_DEFECTIVE_PIXEL_PERCENTAGE': 0, 'BOA_ADD_OFFSET_B12': -1000, 'CLOUD_SHADOW_PERCENTAGE': 0.069101, 'system:footprint': {'type': 'LinearRing', 'coordinates': [[-7.9243405660268715, 33.43492136337897], [-7.924341563228654, 33.43491007978233], [-7.930375386858528, 32.93988354150397], [-7.936263271774266, 32.444816681070506], [-7.936220468087287, 32.444774832707715], [-7.93618414730887, 32.44472879826194], [-7.936166610280572, 32.44472587072038], [-6.768834457249824, 32.42945324172799], [-6.76878445622691, 32.429488952772715], [-6.768729553187375, 32.42951907899511], [-6.768725876646211, 32.429533810866836], [-6.756385067512598, 32.92431672162306], [-6.743738716737969, 33.41904872387556], [-6.743781511505012, 33.41909093775629], [-6.743817527733579, 33.41913726722982], [-6.743835168342649, 33.41914039611765], [-7.9242326190159265, 33.43499916077121], [-7.924282728347187, 33.43496305935489], [-7.92433790682218, 33.434932413353856], [-7.9243405660268715, 33.43492136337897]]}, 'SENSOR_QUALITY': 'PASSED', 'GENERATION_TIME': 1673009451000, 'CLOUDY_PIXEL_OVER_LAND_PERCENTAGE': 0.732611, 'CLOUD_COVERAGE_ASSESSMENT': 0.728677, 'THIN_CIRRUS_PERCENTAGE': 0, 'GRANULE_MEAN_WV': 0.909875, 'BOA_ADD_OFFSET_B1': -1000, 'BOA_ADD_OFFSET_B2': -1000, 'DATASTRIP_ID': 'S2B_OPER_MSI_L2A_DS_2BPS_20230106T125051_S20230106T111343_N05.09', 'BOA_ADD_OFFSET_B5': -1000, 'BOA_ADD_OFFSET_B6': -1000, 'BOA_ADD_OFFSET_B3': -1000, 'BOA_ADD_OFFSET_B4': -1000, 'BOA_ADD_OFFSET_B9': -1000, 'BOA_ADD_OFFSET_B7': -1000, 'BOA_ADD_OFFSET_B8': -1000, 'GRANULE_ID': 'L2A_T29SPS_A030479_20230106T111343', 'MEAN_INCIDENCE_AZIMUTH_ANGLE_B8': 195.019052930427, 'DATATAKE_TYPE': 'INS-NOBS', 'MEAN_INCIDENCE_AZIMUTH_ANGLE_B9': 191.26072819288, 'MEAN_INCIDENCE_AZIMUTH_ANGLE_B6': 191.585916865673, 'MEAN_INCIDENCE_AZIMUTH_ANGLE_B7': 191.2882911964, 'MEAN_INCIDENCE_AZIMUTH_ANGLE_B4': 192.652668997157, 'NOT_VEGETATED_PERCENTAGE': 70.045185, 'MEAN_INCIDENCE_AZIMUTH_ANGLE_B5': 191.970336237985, 'RADIOMETRIC_QUALITY': 'PASSED', 'MEAN_INCIDENCE_AZIMUTH_ANGLE_B2': 196.378335626441, 'MEAN_INCIDENCE_AZIMUTH_ANGLE_B3': 193.980531464365, 'MEAN_INCIDENCE_AZIMUTH_ANGLE_B1': 191.388045381549, 'HIGH_PROBA_CLOUDS_PERCENTAGE': 0.182113, 'UNCLASSIFIED_PERCENTAGE': 0.18062, 'OZONE_SOURCE': 'AUX_ECMWFT', 'GRANULE_MEAN_AOT': 0.067609, 'BOA_ADD_OFFSET_B8A': -1000, 'SNOW_ICE_PERCENTAGE': 0.003328, 'BOA_ADD_OFFSET_B11': -1000, 'BOA_ADD_OFFSET_B10': -1000, 'GEOMETRIC_QUALITY': 'PASSED', 'system:asset_size': 1818040329, 'system:index': '20230106T111349_20230106T111343_T29SPS', 'DATATAKE_IDENTIFIER': 'GS2B_20230106T111349_030479_N05.09', 'AOT_RETRIEVAL_ACCURACY': 0, 'AOT_RETRIEVAL_METHOD': 'SEN2COR_DDV', 'MEAN_INCIDENCE_AZIMUTH_ANGLE_B8A': 191.063165966763, 'MEAN_SOLAR_AZIMUTH_ANGLE': 160.100034702591, 'VEGETATION_PERCENTAGE': 28.708133, 'SOLAR_IRRADIANCE_B12': 87.75, 'SOLAR_IRRADIANCE_B10': 365.41, 'SOLAR_IRRADIANCE_B11': 247.08, 'SOLAR_IRRADIANCE_B8A': 953.93, 'FORMAT_CORRECTNESS': 'PASSED', 'system:time_end': 1673004129156, 'WATER_VAPOUR_RETRIEVAL_ACCURACY': 0, 'OZONE_VALUE': 282.41347, 'system:time_start': 1673004129156, 'PROCESSING_BASELINE': '05.09', 'SENSING_ORBIT_NUMBER': 137, 'NODATA_PIXEL_PERCENTAGE': 0, 'SENSING_ORBIT_DIRECTION': 'DESCENDING', 'GENERAL_QUALITY': 'PASSED', 'REFLECTANCE_CONVERSION_CORRECTION': 1.03431318345488, 'MEDIUM_PROBA_CLOUDS_PERCENTAGE': 0.546564, 'MEAN_INCIDENCE_ZENITH_ANGLE_B1': 3.13421005020636, 'MEAN_INCIDENCE_ZENITH_ANGLE_B5': 2.7937661385927, 'MEAN_INCIDENCE_ZENITH_ANGLE_B4': 2.72564713470595, 'MEAN_INCIDENCE_ZENITH_ANGLE_B3': 2.60445760562481, 'MEAN_INCIDENCE_ZENITH_ANGLE_B2': 2.49716863505735, 'MEAN_INCIDENCE_ZENITH_ANGLE_B9': 3.22970816426737, 'MEAN_INCIDENCE_ZENITH_ANGLE_B8': 2.54720445544243, 'MEAN_INCIDENCE_ZENITH_ANGLE_B7': 2.95446708785071, 'DARK_FEATURES_PERCENTAGE': 0.020733, 'MEAN_INCIDENCE_ZENITH_ANGLE_B6': 2.87194042169199, 'MEAN_SOLAR_ZENITH_ANGLE': 58.094845510593, 'MEAN_INCIDENCE_ZENITH_ANGLE_B8A': 3.04067416319345, 'RADIATIVE_TRANSFER_ACCURACY': 0, 'MGRS_TILE': '29SPS', 'CLOUDY_PIXEL_PERCENTAGE': 0.728677, 'PRODUCT_ID': 'S2B_MSIL2A_20230106T111349_N0509_R137_T29SPS_20230106T125051', 'MEAN_INCIDENCE_ZENITH_ANGLE_B10': 2.6901791201854, 'SOLAR_IRRADIANCE_B9': 817.58, 'DEGRADED_MSI_DATA_PERCENTAGE': 0, 'MEAN_INCIDENCE_ZENITH_ANGLE_B11': 2.86065079324716, 'L2A_QUALITY': 'PASSED', 'MEAN_INCIDENCE_ZENITH_ANGLE_B12': 3.06174236894056, 'SOLAR_IRRADIANCE_B6': 1291.13, 'MEAN_INCIDENCE_AZIMUTH_ANGLE_B10': 192.86440425905, 'SOLAR_IRRADIANCE_B5': 1425.78, 'MEAN_INCIDENCE_AZIMUTH_ANGLE_B11': 191.625127847224, 'SOLAR_IRRADIANCE_B8': 1041.28, 'MEAN_INCIDENCE_AZIMUTH_ANGLE_B12': 191.002348321589, 'SOLAR_IRRADIANCE_B7': 1175.57, 'SOLAR_IRRADIANCE_B2': 1959.75, 'SOLAR_IRRADIANCE_B1': 1874.3, 'SOLAR_IRRADIANCE_B4': 1512.79, 'SOLAR_IRRADIANCE_B3': 1824.93, 'WATER_PERCENTAGE': 0.244229}}\n"
     ]
    }
   ],
   "source": [
    "# Print the number of images in the collection\n",
    "print('Number of images: ', s2.size().getInfo())\n",
    "\n",
    "# Print the first image in the collection\n",
    "print('First image: ', s2.first().getInfo())"
   ]
  },
  {
   "cell_type": "code",
   "execution_count": 28,
   "metadata": {},
   "outputs": [
    {
     "ename": "EEException",
     "evalue": "Image.visualize: No band named 'B8'. Available band names: [B4, B3, B2].",
     "output_type": "error",
     "traceback": [
      "\u001b[1;31m---------------------------------------------------------------------------\u001b[0m",
      "\u001b[1;31mHttpError\u001b[0m                                 Traceback (most recent call last)",
      "File \u001b[1;32mc:\\Users\\abdel\\anaconda3\\envs\\abtest\\lib\\site-packages\\ee\\data.py:337\u001b[0m, in \u001b[0;36m_execute_cloud_call\u001b[1;34m(call, num_retries)\u001b[0m\n\u001b[0;32m    336\u001b[0m \u001b[39mtry\u001b[39;00m:\n\u001b[1;32m--> 337\u001b[0m   \u001b[39mreturn\u001b[39;00m call\u001b[39m.\u001b[39;49mexecute(num_retries\u001b[39m=\u001b[39;49mnum_retries)\n\u001b[0;32m    338\u001b[0m \u001b[39mexcept\u001b[39;00m googleapiclient\u001b[39m.\u001b[39merrors\u001b[39m.\u001b[39mHttpError \u001b[39mas\u001b[39;00m e:\n",
      "File \u001b[1;32mc:\\Users\\abdel\\anaconda3\\envs\\abtest\\lib\\site-packages\\googleapiclient\\_helpers.py:130\u001b[0m, in \u001b[0;36mpositional.<locals>.positional_decorator.<locals>.positional_wrapper\u001b[1;34m(*args, **kwargs)\u001b[0m\n\u001b[0;32m    129\u001b[0m         logger\u001b[39m.\u001b[39mwarning(message)\n\u001b[1;32m--> 130\u001b[0m \u001b[39mreturn\u001b[39;00m wrapped(\u001b[39m*\u001b[39margs, \u001b[39m*\u001b[39m\u001b[39m*\u001b[39mkwargs)\n",
      "File \u001b[1;32mc:\\Users\\abdel\\anaconda3\\envs\\abtest\\lib\\site-packages\\googleapiclient\\http.py:938\u001b[0m, in \u001b[0;36mHttpRequest.execute\u001b[1;34m(self, http, num_retries)\u001b[0m\n\u001b[0;32m    937\u001b[0m \u001b[39mif\u001b[39;00m resp\u001b[39m.\u001b[39mstatus \u001b[39m>\u001b[39m\u001b[39m=\u001b[39m \u001b[39m300\u001b[39m:\n\u001b[1;32m--> 938\u001b[0m     \u001b[39mraise\u001b[39;00m HttpError(resp, content, uri\u001b[39m=\u001b[39m\u001b[39mself\u001b[39m\u001b[39m.\u001b[39muri)\n\u001b[0;32m    939\u001b[0m \u001b[39mreturn\u001b[39;00m \u001b[39mself\u001b[39m\u001b[39m.\u001b[39mpostproc(resp, content)\n",
      "\u001b[1;31mHttpError\u001b[0m: <HttpError 400 when requesting https://earthengine.googleapis.com/v1alpha/projects/earthengine-legacy/thumbnails?fields=name&alt=json returned \"Image.visualize: No band named 'B8'. Available band names: [B4, B3, B2].\". Details: \"Image.visualize: No band named 'B8'. Available band names: [B4, B3, B2].\">",
      "\nDuring handling of the above exception, another exception occurred:\n",
      "\u001b[1;31mEEException\u001b[0m                               Traceback (most recent call last)",
      "Cell \u001b[1;32mIn[28], line 10\u001b[0m\n\u001b[0;32m      7\u001b[0m vis \u001b[39m=\u001b[39m {\u001b[39m'\u001b[39m\u001b[39mbands\u001b[39m\u001b[39m'\u001b[39m: [\u001b[39m'\u001b[39m\u001b[39mB8\u001b[39m\u001b[39m'\u001b[39m, \u001b[39m'\u001b[39m\u001b[39mB4\u001b[39m\u001b[39m'\u001b[39m], \u001b[39m'\u001b[39m\u001b[39mmin\u001b[39m\u001b[39m'\u001b[39m: \u001b[39m0\u001b[39m, \u001b[39m'\u001b[39m\u001b[39mmax\u001b[39m\u001b[39m'\u001b[39m: \u001b[39m1000\u001b[39m}\n\u001b[0;32m      9\u001b[0m \u001b[39m# Display the visualization\u001b[39;00m\n\u001b[1;32m---> 10\u001b[0m Image(url\u001b[39m=\u001b[39mimage\u001b[39m.\u001b[39;49mselect([\u001b[39m'\u001b[39;49m\u001b[39mB4\u001b[39;49m\u001b[39m'\u001b[39;49m, \u001b[39m'\u001b[39;49m\u001b[39mB3\u001b[39;49m\u001b[39m'\u001b[39;49m, \u001b[39m'\u001b[39;49m\u001b[39mB2\u001b[39;49m\u001b[39m'\u001b[39;49m])\u001b[39m.\u001b[39;49mgetThumbUrl(vis))\n",
      "File \u001b[1;32mc:\\Users\\abdel\\anaconda3\\envs\\abtest\\lib\\site-packages\\ee\\deprecation.py:32\u001b[0m, in \u001b[0;36mDeprecated.<locals>.Decorator.<locals>.Wrapper\u001b[1;34m(*args, **kwargs)\u001b[0m\n\u001b[0;32m     25\u001b[0m \u001b[39m@functools\u001b[39m\u001b[39m.\u001b[39mwraps(func)\n\u001b[0;32m     26\u001b[0m \u001b[39mdef\u001b[39;00m \u001b[39mWrapper\u001b[39m(\u001b[39m*\u001b[39margs, \u001b[39m*\u001b[39m\u001b[39m*\u001b[39mkwargs):\n\u001b[0;32m     27\u001b[0m   warnings\u001b[39m.\u001b[39mwarn_explicit(\n\u001b[0;32m     28\u001b[0m       \u001b[39m'\u001b[39m\u001b[39m%s\u001b[39;00m\u001b[39m() is deprecated: \u001b[39m\u001b[39m%s\u001b[39;00m\u001b[39m'\u001b[39m \u001b[39m%\u001b[39m (func\u001b[39m.\u001b[39m\u001b[39m__name__\u001b[39m, message),\n\u001b[0;32m     29\u001b[0m       category\u001b[39m=\u001b[39m\u001b[39mDeprecationWarning\u001b[39;00m,\n\u001b[0;32m     30\u001b[0m       filename\u001b[39m=\u001b[39mfunc\u001b[39m.\u001b[39m\u001b[39m__code__\u001b[39m\u001b[39m.\u001b[39mco_filename,\n\u001b[0;32m     31\u001b[0m       lineno\u001b[39m=\u001b[39mfunc\u001b[39m.\u001b[39m\u001b[39m__code__\u001b[39m\u001b[39m.\u001b[39mco_firstlineno \u001b[39m+\u001b[39m \u001b[39m1\u001b[39m)\n\u001b[1;32m---> 32\u001b[0m   \u001b[39mreturn\u001b[39;00m func(\u001b[39m*\u001b[39margs, \u001b[39m*\u001b[39m\u001b[39m*\u001b[39mkwargs)\n",
      "File \u001b[1;32mc:\\Users\\abdel\\anaconda3\\envs\\abtest\\lib\\site-packages\\ee\\image.py:520\u001b[0m, in \u001b[0;36mImage.getThumbURL\u001b[1;34m(self, params)\u001b[0m\n\u001b[0;32m    496\u001b[0m \u001b[39m\"\"\"Get a thumbnail URL for this image.\u001b[39;00m\n\u001b[0;32m    497\u001b[0m \n\u001b[0;32m    498\u001b[0m \u001b[39mArgs:\u001b[39;00m\n\u001b[1;32m   (...)\u001b[0m\n\u001b[0;32m    515\u001b[0m \u001b[39m  EEException: If the region parameter is not an array or GeoJSON object.\u001b[39;00m\n\u001b[0;32m    516\u001b[0m \u001b[39m\"\"\"\u001b[39;00m\n\u001b[0;32m    517\u001b[0m \u001b[39m# If the Cloud API is enabled, we can do cleaner handling of the parameters.\u001b[39;00m\n\u001b[0;32m    518\u001b[0m \u001b[39m# If it isn't enabled, we have to be bug-for-bug compatible with current\u001b[39;00m\n\u001b[0;32m    519\u001b[0m \u001b[39m# behaviour.\u001b[39;00m\n\u001b[1;32m--> 520\u001b[0m \u001b[39mreturn\u001b[39;00m data\u001b[39m.\u001b[39mmakeThumbUrl(\u001b[39mself\u001b[39;49m\u001b[39m.\u001b[39;49mgetThumbId(params))\n",
      "File \u001b[1;32mc:\\Users\\abdel\\anaconda3\\envs\\abtest\\lib\\site-packages\\ee\\image.py:493\u001b[0m, in \u001b[0;36mImage.getThumbId\u001b[1;34m(self, params)\u001b[0m\n\u001b[0;32m    491\u001b[0m image, params \u001b[39m=\u001b[39m image\u001b[39m.\u001b[39m_apply_visualization(params)  \u001b[39m# pylint: disable=protected-access\u001b[39;00m\n\u001b[0;32m    492\u001b[0m params[\u001b[39m'\u001b[39m\u001b[39mimage\u001b[39m\u001b[39m'\u001b[39m] \u001b[39m=\u001b[39m image\n\u001b[1;32m--> 493\u001b[0m \u001b[39mreturn\u001b[39;00m data\u001b[39m.\u001b[39;49mgetThumbId(params)\n",
      "File \u001b[1;32mc:\\Users\\abdel\\anaconda3\\envs\\abtest\\lib\\site-packages\\ee\\data.py:1033\u001b[0m, in \u001b[0;36mgetThumbId\u001b[1;34m(params, thumbType)\u001b[0m\n\u001b[0;32m   1030\u001b[0m   request[\u001b[39m'\u001b[39m\u001b[39mfilenamePrefix\u001b[39m\u001b[39m'\u001b[39m] \u001b[39m=\u001b[39m params\u001b[39m.\u001b[39mget(\u001b[39m'\u001b[39m\u001b[39mname\u001b[39m\u001b[39m'\u001b[39m)\n\u001b[0;32m   1031\u001b[0m   request[\u001b[39m'\u001b[39m\u001b[39mbandIds\u001b[39m\u001b[39m'\u001b[39m] \u001b[39m=\u001b[39m _cloud_api_utils\u001b[39m.\u001b[39mconvert_to_band_list(\n\u001b[0;32m   1032\u001b[0m       params\u001b[39m.\u001b[39mget(\u001b[39m'\u001b[39m\u001b[39mbands\u001b[39m\u001b[39m'\u001b[39m))\n\u001b[1;32m-> 1033\u001b[0m   result \u001b[39m=\u001b[39m _execute_cloud_call(\n\u001b[0;32m   1034\u001b[0m       _get_cloud_api_resource()\u001b[39m.\u001b[39;49mprojects()\u001b[39m.\u001b[39;49mthumbnails()\u001b[39m.\u001b[39;49mcreate(\n\u001b[0;32m   1035\u001b[0m           parent\u001b[39m=\u001b[39;49m_get_projects_path(), \u001b[39m*\u001b[39;49m\u001b[39m*\u001b[39;49mqueryParams))\n\u001b[0;32m   1036\u001b[0m \u001b[39mreturn\u001b[39;00m {\u001b[39m'\u001b[39m\u001b[39mthumbid\u001b[39m\u001b[39m'\u001b[39m: result[\u001b[39m'\u001b[39m\u001b[39mname\u001b[39m\u001b[39m'\u001b[39m], \u001b[39m'\u001b[39m\u001b[39mtoken\u001b[39m\u001b[39m'\u001b[39m: \u001b[39m'\u001b[39m\u001b[39m'\u001b[39m}\n",
      "File \u001b[1;32mc:\\Users\\abdel\\anaconda3\\envs\\abtest\\lib\\site-packages\\ee\\data.py:339\u001b[0m, in \u001b[0;36m_execute_cloud_call\u001b[1;34m(call, num_retries)\u001b[0m\n\u001b[0;32m    337\u001b[0m   \u001b[39mreturn\u001b[39;00m call\u001b[39m.\u001b[39mexecute(num_retries\u001b[39m=\u001b[39mnum_retries)\n\u001b[0;32m    338\u001b[0m \u001b[39mexcept\u001b[39;00m googleapiclient\u001b[39m.\u001b[39merrors\u001b[39m.\u001b[39mHttpError \u001b[39mas\u001b[39;00m e:\n\u001b[1;32m--> 339\u001b[0m   \u001b[39mraise\u001b[39;00m _translate_cloud_exception(e)\n",
      "\u001b[1;31mEEException\u001b[0m: Image.visualize: No band named 'B8'. Available band names: [B4, B3, B2]."
     ]
    }
   ],
   "source": [
    "from IPython.display import Image\n",
    "\n",
    "# Select a single image from the collection\n",
    "image = s2.first()\n",
    "\n",
    "# Generate a visualization of the image\n",
    "vis = {'bands': ['B4', 'B3', 'B2'], 'min': 0, 'max': 1000}\n",
    "\n",
    "# Display the visualization\n",
    "Image(url=image.select(['B4', 'B3', 'B2']).getThumbUrl(vis))"
   ]
  },
  {
   "cell_type": "code",
   "execution_count": 15,
   "metadata": {},
   "outputs": [
    {
     "ename": "AttributeError",
     "evalue": "'ImageCollection' object has no attribute 'firs'",
     "output_type": "error",
     "traceback": [
      "\u001b[1;31m---------------------------------------------------------------------------\u001b[0m",
      "\u001b[1;31mAttributeError\u001b[0m                            Traceback (most recent call last)",
      "Cell \u001b[1;32mIn[15], line 1\u001b[0m\n\u001b[1;32m----> 1\u001b[0m s2\u001b[39m.\u001b[39;49mfirs\n",
      "\u001b[1;31mAttributeError\u001b[0m: 'ImageCollection' object has no attribute 'firs'"
     ]
    }
   ],
   "source": [
    "s2.firs"
   ]
  },
  {
   "cell_type": "code",
   "execution_count": 17,
   "metadata": {},
   "outputs": [
    {
     "ename": "TypeError",
     "evalue": "Image data of dtype object cannot be converted to float",
     "output_type": "error",
     "traceback": [
      "\u001b[1;31m---------------------------------------------------------------------------\u001b[0m",
      "\u001b[1;31mTypeError\u001b[0m                                 Traceback (most recent call last)",
      "Cell \u001b[1;32mIn[17], line 22\u001b[0m\n\u001b[0;32m     16\u001b[0m image_array \u001b[39m=\u001b[39m image\u001b[39m.\u001b[39mtoArray()\u001b[39m.\u001b[39mgetInfo()\n\u001b[0;32m     18\u001b[0m \u001b[39m# Reshape the array into a 3D array\u001b[39;00m\n\u001b[0;32m     19\u001b[0m \u001b[39m#image_array = image_array.reshape(image.shape().getInfo()['coordinates'] + [num_bands])\u001b[39;00m\n\u001b[0;32m     20\u001b[0m \n\u001b[0;32m     21\u001b[0m \u001b[39m# Display the image\u001b[39;00m\n\u001b[1;32m---> 22\u001b[0m plt\u001b[39m.\u001b[39;49mimshow(image_array)\n\u001b[0;32m     23\u001b[0m plt\u001b[39m.\u001b[39maxis(\u001b[39m'\u001b[39m\u001b[39moff\u001b[39m\u001b[39m'\u001b[39m)\n\u001b[0;32m     24\u001b[0m plt\u001b[39m.\u001b[39mshow()\n",
      "File \u001b[1;32mc:\\Users\\abdel\\anaconda3\\envs\\abtest\\lib\\site-packages\\matplotlib\\pyplot.py:2695\u001b[0m, in \u001b[0;36mimshow\u001b[1;34m(X, cmap, norm, aspect, interpolation, alpha, vmin, vmax, origin, extent, interpolation_stage, filternorm, filterrad, resample, url, data, **kwargs)\u001b[0m\n\u001b[0;32m   2689\u001b[0m \u001b[39m@_copy_docstring_and_deprecators\u001b[39m(Axes\u001b[39m.\u001b[39mimshow)\n\u001b[0;32m   2690\u001b[0m \u001b[39mdef\u001b[39;00m \u001b[39mimshow\u001b[39m(\n\u001b[0;32m   2691\u001b[0m         X, cmap\u001b[39m=\u001b[39m\u001b[39mNone\u001b[39;00m, norm\u001b[39m=\u001b[39m\u001b[39mNone\u001b[39;00m, \u001b[39m*\u001b[39m, aspect\u001b[39m=\u001b[39m\u001b[39mNone\u001b[39;00m, interpolation\u001b[39m=\u001b[39m\u001b[39mNone\u001b[39;00m,\n\u001b[0;32m   2692\u001b[0m         alpha\u001b[39m=\u001b[39m\u001b[39mNone\u001b[39;00m, vmin\u001b[39m=\u001b[39m\u001b[39mNone\u001b[39;00m, vmax\u001b[39m=\u001b[39m\u001b[39mNone\u001b[39;00m, origin\u001b[39m=\u001b[39m\u001b[39mNone\u001b[39;00m, extent\u001b[39m=\u001b[39m\u001b[39mNone\u001b[39;00m,\n\u001b[0;32m   2693\u001b[0m         interpolation_stage\u001b[39m=\u001b[39m\u001b[39mNone\u001b[39;00m, filternorm\u001b[39m=\u001b[39m\u001b[39mTrue\u001b[39;00m, filterrad\u001b[39m=\u001b[39m\u001b[39m4.0\u001b[39m,\n\u001b[0;32m   2694\u001b[0m         resample\u001b[39m=\u001b[39m\u001b[39mNone\u001b[39;00m, url\u001b[39m=\u001b[39m\u001b[39mNone\u001b[39;00m, data\u001b[39m=\u001b[39m\u001b[39mNone\u001b[39;00m, \u001b[39m*\u001b[39m\u001b[39m*\u001b[39mkwargs):\n\u001b[1;32m-> 2695\u001b[0m     __ret \u001b[39m=\u001b[39m gca()\u001b[39m.\u001b[39mimshow(\n\u001b[0;32m   2696\u001b[0m         X, cmap\u001b[39m=\u001b[39mcmap, norm\u001b[39m=\u001b[39mnorm, aspect\u001b[39m=\u001b[39maspect,\n\u001b[0;32m   2697\u001b[0m         interpolation\u001b[39m=\u001b[39minterpolation, alpha\u001b[39m=\u001b[39malpha, vmin\u001b[39m=\u001b[39mvmin,\n\u001b[0;32m   2698\u001b[0m         vmax\u001b[39m=\u001b[39mvmax, origin\u001b[39m=\u001b[39morigin, extent\u001b[39m=\u001b[39mextent,\n\u001b[0;32m   2699\u001b[0m         interpolation_stage\u001b[39m=\u001b[39minterpolation_stage,\n\u001b[0;32m   2700\u001b[0m         filternorm\u001b[39m=\u001b[39mfilternorm, filterrad\u001b[39m=\u001b[39mfilterrad, resample\u001b[39m=\u001b[39mresample,\n\u001b[0;32m   2701\u001b[0m         url\u001b[39m=\u001b[39murl, \u001b[39m*\u001b[39m\u001b[39m*\u001b[39m({\u001b[39m\"\u001b[39m\u001b[39mdata\u001b[39m\u001b[39m\"\u001b[39m: data} \u001b[39mif\u001b[39;00m data \u001b[39mis\u001b[39;00m \u001b[39mnot\u001b[39;00m \u001b[39mNone\u001b[39;00m \u001b[39melse\u001b[39;00m {}),\n\u001b[0;32m   2702\u001b[0m         \u001b[39m*\u001b[39m\u001b[39m*\u001b[39mkwargs)\n\u001b[0;32m   2703\u001b[0m     sci(__ret)\n\u001b[0;32m   2704\u001b[0m     \u001b[39mreturn\u001b[39;00m __ret\n",
      "File \u001b[1;32mc:\\Users\\abdel\\anaconda3\\envs\\abtest\\lib\\site-packages\\matplotlib\\__init__.py:1442\u001b[0m, in \u001b[0;36m_preprocess_data.<locals>.inner\u001b[1;34m(ax, data, *args, **kwargs)\u001b[0m\n\u001b[0;32m   1439\u001b[0m \u001b[39m@functools\u001b[39m\u001b[39m.\u001b[39mwraps(func)\n\u001b[0;32m   1440\u001b[0m \u001b[39mdef\u001b[39;00m \u001b[39minner\u001b[39m(ax, \u001b[39m*\u001b[39margs, data\u001b[39m=\u001b[39m\u001b[39mNone\u001b[39;00m, \u001b[39m*\u001b[39m\u001b[39m*\u001b[39mkwargs):\n\u001b[0;32m   1441\u001b[0m     \u001b[39mif\u001b[39;00m data \u001b[39mis\u001b[39;00m \u001b[39mNone\u001b[39;00m:\n\u001b[1;32m-> 1442\u001b[0m         \u001b[39mreturn\u001b[39;00m func(ax, \u001b[39m*\u001b[39m\u001b[39mmap\u001b[39m(sanitize_sequence, args), \u001b[39m*\u001b[39m\u001b[39m*\u001b[39mkwargs)\n\u001b[0;32m   1444\u001b[0m     bound \u001b[39m=\u001b[39m new_sig\u001b[39m.\u001b[39mbind(ax, \u001b[39m*\u001b[39margs, \u001b[39m*\u001b[39m\u001b[39m*\u001b[39mkwargs)\n\u001b[0;32m   1445\u001b[0m     auto_label \u001b[39m=\u001b[39m (bound\u001b[39m.\u001b[39marguments\u001b[39m.\u001b[39mget(label_namer)\n\u001b[0;32m   1446\u001b[0m                   \u001b[39mor\u001b[39;00m bound\u001b[39m.\u001b[39mkwargs\u001b[39m.\u001b[39mget(label_namer))\n",
      "File \u001b[1;32mc:\\Users\\abdel\\anaconda3\\envs\\abtest\\lib\\site-packages\\matplotlib\\axes\\_axes.py:5665\u001b[0m, in \u001b[0;36mAxes.imshow\u001b[1;34m(self, X, cmap, norm, aspect, interpolation, alpha, vmin, vmax, origin, extent, interpolation_stage, filternorm, filterrad, resample, url, **kwargs)\u001b[0m\n\u001b[0;32m   5657\u001b[0m \u001b[39mself\u001b[39m\u001b[39m.\u001b[39mset_aspect(aspect)\n\u001b[0;32m   5658\u001b[0m im \u001b[39m=\u001b[39m mimage\u001b[39m.\u001b[39mAxesImage(\u001b[39mself\u001b[39m, cmap\u001b[39m=\u001b[39mcmap, norm\u001b[39m=\u001b[39mnorm,\n\u001b[0;32m   5659\u001b[0m                       interpolation\u001b[39m=\u001b[39minterpolation, origin\u001b[39m=\u001b[39morigin,\n\u001b[0;32m   5660\u001b[0m                       extent\u001b[39m=\u001b[39mextent, filternorm\u001b[39m=\u001b[39mfilternorm,\n\u001b[0;32m   5661\u001b[0m                       filterrad\u001b[39m=\u001b[39mfilterrad, resample\u001b[39m=\u001b[39mresample,\n\u001b[0;32m   5662\u001b[0m                       interpolation_stage\u001b[39m=\u001b[39minterpolation_stage,\n\u001b[0;32m   5663\u001b[0m                       \u001b[39m*\u001b[39m\u001b[39m*\u001b[39mkwargs)\n\u001b[1;32m-> 5665\u001b[0m im\u001b[39m.\u001b[39;49mset_data(X)\n\u001b[0;32m   5666\u001b[0m im\u001b[39m.\u001b[39mset_alpha(alpha)\n\u001b[0;32m   5667\u001b[0m \u001b[39mif\u001b[39;00m im\u001b[39m.\u001b[39mget_clip_path() \u001b[39mis\u001b[39;00m \u001b[39mNone\u001b[39;00m:\n\u001b[0;32m   5668\u001b[0m     \u001b[39m# image does not already have clipping set, clip to axes patch\u001b[39;00m\n",
      "File \u001b[1;32mc:\\Users\\abdel\\anaconda3\\envs\\abtest\\lib\\site-packages\\matplotlib\\image.py:701\u001b[0m, in \u001b[0;36m_ImageBase.set_data\u001b[1;34m(self, A)\u001b[0m\n\u001b[0;32m    697\u001b[0m \u001b[39mself\u001b[39m\u001b[39m.\u001b[39m_A \u001b[39m=\u001b[39m cbook\u001b[39m.\u001b[39msafe_masked_invalid(A, copy\u001b[39m=\u001b[39m\u001b[39mTrue\u001b[39;00m)\n\u001b[0;32m    699\u001b[0m \u001b[39mif\u001b[39;00m (\u001b[39mself\u001b[39m\u001b[39m.\u001b[39m_A\u001b[39m.\u001b[39mdtype \u001b[39m!=\u001b[39m np\u001b[39m.\u001b[39muint8 \u001b[39mand\u001b[39;00m\n\u001b[0;32m    700\u001b[0m         \u001b[39mnot\u001b[39;00m np\u001b[39m.\u001b[39mcan_cast(\u001b[39mself\u001b[39m\u001b[39m.\u001b[39m_A\u001b[39m.\u001b[39mdtype, \u001b[39mfloat\u001b[39m, \u001b[39m\"\u001b[39m\u001b[39msame_kind\u001b[39m\u001b[39m\"\u001b[39m)):\n\u001b[1;32m--> 701\u001b[0m     \u001b[39mraise\u001b[39;00m \u001b[39mTypeError\u001b[39;00m(\u001b[39m\"\u001b[39m\u001b[39mImage data of dtype \u001b[39m\u001b[39m{}\u001b[39;00m\u001b[39m cannot be converted to \u001b[39m\u001b[39m\"\u001b[39m\n\u001b[0;32m    702\u001b[0m                     \u001b[39m\"\u001b[39m\u001b[39mfloat\u001b[39m\u001b[39m\"\u001b[39m\u001b[39m.\u001b[39mformat(\u001b[39mself\u001b[39m\u001b[39m.\u001b[39m_A\u001b[39m.\u001b[39mdtype))\n\u001b[0;32m    704\u001b[0m \u001b[39mif\u001b[39;00m \u001b[39mself\u001b[39m\u001b[39m.\u001b[39m_A\u001b[39m.\u001b[39mndim \u001b[39m==\u001b[39m \u001b[39m3\u001b[39m \u001b[39mand\u001b[39;00m \u001b[39mself\u001b[39m\u001b[39m.\u001b[39m_A\u001b[39m.\u001b[39mshape[\u001b[39m-\u001b[39m\u001b[39m1\u001b[39m] \u001b[39m==\u001b[39m \u001b[39m1\u001b[39m:\n\u001b[0;32m    705\u001b[0m     \u001b[39m# If just one dimension assume scalar and apply colormap\u001b[39;00m\n\u001b[0;32m    706\u001b[0m     \u001b[39mself\u001b[39m\u001b[39m.\u001b[39m_A \u001b[39m=\u001b[39m \u001b[39mself\u001b[39m\u001b[39m.\u001b[39m_A[:, :, \u001b[39m0\u001b[39m]\n",
      "\u001b[1;31mTypeError\u001b[0m: Image data of dtype object cannot be converted to float"
     ]
    },
    {
     "data": {
      "image/png": "[encoded data removed]",
      "text/plain": [
       "<Figure size 640x480 with 1 Axes>"
      ]
     },
     "metadata": {},
     "output_type": "display_data"
    }
   ],
   "source": [
    "# Convert the image collection to a multi-band image\n",
    "image = s2.toBands()\n",
    "\n",
    "# Get the band names\n",
    "band_names = image.bandNames().getInfo()\n",
    "\n",
    "# Get the number of bands\n",
    "num_bands = image.bandNames().size().getInfo()\n",
    "\n",
    "# Create a list of band names\n",
    "band_list = []\n",
    "for i in range(num_bands):\n",
    "    band_list.append(band_names[i])\n",
    "\n",
    "# Get the image data as a numpy array\n",
    "image_array = image.toArray().getInfo()\n",
    "\n",
    "# Reshape the array into a 3D array\n",
    "image_array = image_array.reshape(image.shape().getInfo()['coordinates'] + [num_bands])\n",
    "\n",
    "# Display the image\n",
    "plt.imshow(image_array)\n",
    "plt.axis('off')\n",
    "plt.show()"
   ]
  },
  {
   "cell_type": "code",
   "execution_count": null,
   "metadata": {},
   "outputs": [],
   "source": []
  }
 ],
 "metadata": {
  "kernelspec": {
   "display_name": "abtest",
   "language": "python",
   "name": "python3"
  },
  "language_info": {
   "codemirror_mode": {
    "name": "ipython",
    "version": 3
   },
   "file_extension": ".py",
   "mimetype": "text/x-python",
   "name": "python",
   "nbconvert_exporter": "python",
   "pygments_lexer": "ipython3",
   "version": "3.9.16"
  },
  "orig_nbformat": 4
 },
 "nbformat": 4,
 "nbformat_minor": 2
}
