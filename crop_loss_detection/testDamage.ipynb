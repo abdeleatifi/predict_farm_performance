{
 "cells": [
  {
   "cell_type": "code",
   "execution_count": 3,
   "metadata": {},
   "outputs": [
    {
     "ename": "ModuleNotFoundError",
     "evalue": "No module named 'rasterstats'",
     "output_type": "error",
     "traceback": [
      "\u001b[1;31m---------------------------------------------------------------------------\u001b[0m",
      "\u001b[1;31mModuleNotFoundError\u001b[0m                       Traceback (most recent call last)",
      "Cell \u001b[1;32mIn[3], line 2\u001b[0m\n\u001b[0;32m      1\u001b[0m \u001b[39mimport\u001b[39;00m \u001b[39mos\u001b[39;00m\n\u001b[1;32m----> 2\u001b[0m \u001b[39mfrom\u001b[39;00m \u001b[39mrasterstats\u001b[39;00m \u001b[39mimport\u001b[39;00m zonal_stats\n\u001b[0;32m      3\u001b[0m \u001b[39mimport\u001b[39;00m \u001b[39mcsv\u001b[39;00m\n\u001b[0;32m      4\u001b[0m \u001b[39mimport\u001b[39;00m \u001b[39mh5py\u001b[39;00m\n",
      "\u001b[1;31mModuleNotFoundError\u001b[0m: No module named 'rasterstats'"
     ]
    }
   ],
   "source": [
    "import os\n",
    "from rasterstats import zonal_stats\n",
    "import csv\n",
    "import h5py\n",
    "import subprocess\n",
    "from osgeo import gdal,osr\n",
    "import sys\n",
    "\n",
    "\n",
    "#direct array extraction\n",
    "\n",
    "def main(shapedir,bandpathtxt):\n",
    "    bandpathlist = makelist(bandpathtxt)\n",
    "    for bandpath in bandpathlist:\n",
    "        print(bandpath)\n",
    "        bandpath = bandpath[:-1]\n",
    "        print(bandpath)\n",
    "        print(os.path.split(bandpath))\n",
    "        #LC08_L1GT_189017_20150601_20170408_01_T2_sr_band2.tif\n",
    "        path = os.path.split(bandpath)[-1].split('_')[2][0:3]\n",
    "        row = os.path.split(bandpath)[-1].split('_')[2][4:6]\n",
    "        pathrow = str(path) + str(0) + str(row)\n",
    "        year = os.path.split(bandpath)[-1].split('_')[3][0:4]\n",
    "        shapefile = os.path.join(shapedir,'barley_newfields_' + pathrow + '_' + year+ '.shp')\n",
    "        shapefile = reproject(shapefile,bandpath)\n",
    "        #print(shapefile)\n",
    "        extractarray(bandpath,shapefile,pathrow,year)"
   ]
  },
  {
   "cell_type": "code",
   "execution_count": null,
   "metadata": {},
   "outputs": [],
   "source": []
  }
 ],
 "metadata": {
  "kernelspec": {
   "display_name": "abtest",
   "language": "python",
   "name": "python3"
  },
  "language_info": {
   "codemirror_mode": {
    "name": "ipython",
    "version": 3
   },
   "file_extension": ".py",
   "mimetype": "text/x-python",
   "name": "python",
   "nbconvert_exporter": "python",
   "pygments_lexer": "ipython3",
   "version": "3.10.10"
  },
  "orig_nbformat": 4
 },
 "nbformat": 4,
 "nbformat_minor": 2
}
