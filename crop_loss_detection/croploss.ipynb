{
 "cells": [
  {
   "cell_type": "code",
   "execution_count": 19,
   "metadata": {},
   "outputs": [],
   "source": [
    "# 4/1AbUR2VOtoJr-n9uHwcXvaD0m2VuWeeVh_2iOaX1I9OiKaJjI3pcV6PiUKOU\n",
    "import ee\n",
    "\n",
    "#ee.Authenticate()\n",
    "ee.Initialize()\n",
    "\n",
    "start_date = '2023-01-01'\n",
    "end_date = '2023-04-30'\n",
    "\n",
    "parcel_coords = [[-7.791558613934031,33.01490300783628], [-7.792003860630503,33.01324314924896], [-7.788286318935862,33.01286529089581], [-7.788710107960215,33.014507163639024], [-7.791558613934031,33.01490300783628]]\n"
   ]
  },
  {
   "cell_type": "code",
   "execution_count": 20,
   "metadata": {},
   "outputs": [],
   "source": [
    "def get_sentinel2_images(parcel_id, start_date, end_date, parcel_coords):\n",
    "    # Define the area of interest using the parcel coordinates\n",
    "    aoi = ee.Geometry.Polygon(parcel_coords)\n",
    "\n",
    "    # Define the Sentinel-2 collection\n",
    "    sentinel2_collection = ee.ImageCollection('COPERNICUS/S2_SR') \\\n",
    "        .filterDate(start_date, end_date) \\\n",
    "        .filterBounds(aoi) \\\n",
    "\n",
    "    # Create a function to add NDVI band to each image in the collection\n",
    "    def add_ndvi(image):\n",
    "        ndvi = image.normalizedDifference(['B8', 'B4']).rename('NDVI')\n",
    "        return image.addBands(ndvi)\n",
    "\n",
    "    # Map the NDVI function over the collection\n",
    "    sentinel2_with_ndvi = sentinel2_collection.map(add_ndvi)\n",
    "\n",
    "    # Convert the collection to a list\n",
    "    sentinel2_list = sentinel2_with_ndvi.toList(sentinel2_with_ndvi.size())\n",
    "\n",
    "    # Loop through the list and add each image to a new list\n",
    "    sentinel2_images = []\n",
    "    for i in range(sentinel2_list.size().getInfo()):\n",
    "        sentinel2_image = ee.Image(sentinel2_list.get(i))\n",
    "        sentinel2_images.append(sentinel2_image)\n",
    "\n",
    "    # Return the list of Sentinel-2 images\n",
    "    return sentinel2_images\n"
   ]
  },
  {
   "cell_type": "code",
   "execution_count": 21,
   "metadata": {},
   "outputs": [],
   "source": [
    "sssimages = get_sentinel2_images(1, start_date, end_date, parcel_coords)"
   ]
  },
  {
   "cell_type": "code",
   "execution_count": 15,
   "metadata": {},
   "outputs": [],
   "source": [
    "import folium\n",
    "from folium import raster_layers"
   ]
  },
  {
   "cell_type": "code",
   "execution_count": 16,
   "metadata": {},
   "outputs": [
    {
     "ename": "AttributeError",
     "evalue": "'Map' object has no attribute 'add_ee_layer'",
     "output_type": "error",
     "traceback": [
      "\u001b[1;31m---------------------------------------------------------------------------\u001b[0m",
      "\u001b[1;31mAttributeError\u001b[0m                            Traceback (most recent call last)",
      "Cell \u001b[1;32mIn[16], line 3\u001b[0m\n\u001b[0;32m      1\u001b[0m \u001b[39m# Create a folium map and add the image layer\u001b[39;00m\n\u001b[0;32m      2\u001b[0m \u001b[39mmap\u001b[39m \u001b[39m=\u001b[39m folium\u001b[39m.\u001b[39mMap(location\u001b[39m=\u001b[39m[\u001b[39m-\u001b[39m\u001b[39m5.876\u001b[39m, \u001b[39m35.2345\u001b[39m], zoom_start\u001b[39m=\u001b[39m\u001b[39m10\u001b[39m)\n\u001b[1;32m----> 3\u001b[0m \u001b[39mmap\u001b[39;49m\u001b[39m.\u001b[39;49madd_ee_layer(sssimages, {\u001b[39m'\u001b[39m\u001b[39mbands\u001b[39m\u001b[39m'\u001b[39m: [\u001b[39m'\u001b[39m\u001b[39mB4\u001b[39m\u001b[39m'\u001b[39m, \u001b[39m'\u001b[39m\u001b[39mB3\u001b[39m\u001b[39m'\u001b[39m, \u001b[39m'\u001b[39m\u001b[39mB2\u001b[39m\u001b[39m'\u001b[39m]}, \u001b[39m'\u001b[39m\u001b[39mLandsat Image\u001b[39m\u001b[39m'\u001b[39m)\n\u001b[0;32m      5\u001b[0m \u001b[39m# Display the map\u001b[39;00m\n\u001b[0;32m      6\u001b[0m display(\u001b[39mmap\u001b[39m)\n",
      "\u001b[1;31mAttributeError\u001b[0m: 'Map' object has no attribute 'add_ee_layer'"
     ]
    }
   ],
   "source": [
    "# Create a folium map and add the image layer\n",
    "map = folium.Map(location=[-5.876, 35.2345], zoom_start=10)\n",
    "map.add_ee_layer(sssimages, {'bands': ['B4', 'B3', 'B2']}, 'Landsat Image')\n",
    "\n",
    "# Display the map\n",
    "display(map)"
   ]
  },
  {
   "cell_type": "code",
   "execution_count": 18,
   "metadata": {},
   "outputs": [
    {
     "ename": "AttributeError",
     "evalue": "'list' object has no attribute 'getThumbUrl'",
     "output_type": "error",
     "traceback": [
      "\u001b[1;31m---------------------------------------------------------------------------\u001b[0m",
      "\u001b[1;31mAttributeError\u001b[0m                            Traceback (most recent call last)",
      "Cell \u001b[1;32mIn[18], line 6\u001b[0m\n\u001b[0;32m      2\u001b[0m \u001b[39mmap\u001b[39m \u001b[39m=\u001b[39m folium\u001b[39m.\u001b[39mMap(location\u001b[39m=\u001b[39m[\u001b[39m-\u001b[39m\u001b[39m5.876\u001b[39m, \u001b[39m35.2345\u001b[39m], zoom_start\u001b[39m=\u001b[39m\u001b[39m10\u001b[39m)\n\u001b[0;32m      3\u001b[0m vis_params \u001b[39m=\u001b[39m {\u001b[39m'\u001b[39m\u001b[39mbands\u001b[39m\u001b[39m'\u001b[39m: [\u001b[39m'\u001b[39m\u001b[39mB4\u001b[39m\u001b[39m'\u001b[39m, \u001b[39m'\u001b[39m\u001b[39mB3\u001b[39m\u001b[39m'\u001b[39m, \u001b[39m'\u001b[39m\u001b[39mB2\u001b[39m\u001b[39m'\u001b[39m]}\n\u001b[0;32m      4\u001b[0m folium\u001b[39m.\u001b[39mTileLayer(\n\u001b[0;32m      5\u001b[0m     tiles\u001b[39m=\u001b[39mraster_layers\u001b[39m.\u001b[39mWmsTileLayer(\n\u001b[1;32m----> 6\u001b[0m         url\u001b[39m=\u001b[39msssimages\u001b[39m.\u001b[39;49mgetThumbUrl(vis_params),\n\u001b[0;32m      7\u001b[0m         name\u001b[39m=\u001b[39m\u001b[39m'\u001b[39m\u001b[39mLandsat Image\u001b[39m\u001b[39m'\u001b[39m,\n\u001b[0;32m      8\u001b[0m         \u001b[39mformat\u001b[39m\u001b[39m=\u001b[39m\u001b[39m'\u001b[39m\u001b[39mimage/png\u001b[39m\u001b[39m'\u001b[39m,\n\u001b[0;32m      9\u001b[0m         transparent\u001b[39m=\u001b[39m\u001b[39mTrue\u001b[39;00m,\n\u001b[0;32m     10\u001b[0m         layers\u001b[39m=\u001b[39m\u001b[39m'\u001b[39m\u001b[39m0\u001b[39m\u001b[39m'\u001b[39m,\n\u001b[0;32m     11\u001b[0m     ),\n\u001b[0;32m     12\u001b[0m     attr\u001b[39m=\u001b[39m\u001b[39m'\u001b[39m\u001b[39mGoogle Earth Engine\u001b[39m\u001b[39m'\u001b[39m,\n\u001b[0;32m     13\u001b[0m     overlay\u001b[39m=\u001b[39m\u001b[39mTrue\u001b[39;00m,\n\u001b[0;32m     14\u001b[0m     control\u001b[39m=\u001b[39m\u001b[39mTrue\u001b[39;00m,\n\u001b[0;32m     15\u001b[0m )\u001b[39m.\u001b[39madd_to(\u001b[39mmap\u001b[39m)\n\u001b[0;32m     17\u001b[0m \u001b[39m# Display the map\u001b[39;00m\n\u001b[0;32m     18\u001b[0m display(\u001b[39mmap\u001b[39m)\n",
      "\u001b[1;31mAttributeError\u001b[0m: 'list' object has no attribute 'getThumbUrl'"
     ]
    }
   ],
   "source": [
    "# Create a folium map and add the image layer\n",
    "map = folium.Map(location=[-5.876, 35.2345], zoom_start=10)\n",
    "vis_params = {'bands': ['B4', 'B3', 'B2']}\n",
    "folium.TileLayer(\n",
    "    tiles=raster_layers.WmsTileLayer(\n",
    "        url=sssimages.getThumbUrl(vis_params),\n",
    "        name='Landsat Image',\n",
    "        format='image/png',\n",
    "        transparent=True,\n",
    "        layers='0',\n",
    "    ),\n",
    "    attr='Google Earth Engine',\n",
    "    overlay=True,\n",
    "    control=True,\n",
    ").add_to(map)\n",
    "\n",
    "# Display the map\n",
    "display(map)"
   ]
  },
  {
   "cell_type": "code",
   "execution_count": null,
   "metadata": {},
   "outputs": [],
   "source": []
  }
 ],
 "metadata": {
  "kernelspec": {
   "display_name": "abtest",
   "language": "python",
   "name": "python3"
  },
  "language_info": {
   "codemirror_mode": {
    "name": "ipython",
    "version": 3
   },
   "file_extension": ".py",
   "mimetype": "text/x-python",
   "name": "python",
   "nbconvert_exporter": "python",
   "pygments_lexer": "ipython3",
   "version": "3.9.16"
  },
  "orig_nbformat": 4
 },
 "nbformat": 4,
 "nbformat_minor": 2
}
