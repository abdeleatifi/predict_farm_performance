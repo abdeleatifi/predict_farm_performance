{
 "cells": [
  {
   "cell_type": "code",
   "execution_count": 1,
   "metadata": {},
   "outputs": [],
   "source": [
    "import ee\n",
    "import numpy as np\n",
    "import pandas as pd\n",
    "from datetime import datetime as dt"
   ]
  },
  {
   "cell_type": "code",
   "execution_count": 2,
   "metadata": {},
   "outputs": [],
   "source": [
    "#ee.Authenticate()\n",
    "ee.Initialize()"
   ]
  },
  {
   "cell_type": "code",
   "execution_count": 3,
   "metadata": {},
   "outputs": [],
   "source": [
    "region = ee.Geometry.Polygon([[-7.791558613934031,33.01490300783628], [-7.792003860630503,33.01324314924896], [-7.788286318935862,33.01286529089581], [-7.788710107960215,33.014507163639024], [-7.791558613934031,33.01490300783628]])"
   ]
  },
  {
   "cell_type": "code",
   "execution_count": 9,
   "metadata": {},
   "outputs": [],
   "source": [
    "start_date = '2023-01-01'\n",
    "end_date = '2023-04-30'"
   ]
  },
  {
   "cell_type": "code",
   "execution_count": 10,
   "metadata": {},
   "outputs": [],
   "source": [
    "def addNDVI(image):\n",
    "    ndvi = image.normalizedDifference(['B8', 'B4']).rename('ndvi')\n",
    "    return image.addBands(ndvi)\n",
    "\n",
    "def maskClouds(image):\n",
    "    cloudBitMask = 1 << 10\n",
    "    shadowBitMask = 1 << 3\n",
    "    qa = image.select('QA60')\n",
    "    mask = qa.bitwiseAnd(cloudBitMask).eq(0) and (qa.bitwiseAnd(shadowBitMask).eq(0))\n",
    "    return image.updateMask(mask)"
   ]
  },
  {
   "cell_type": "code",
   "execution_count": 12,
   "metadata": {},
   "outputs": [],
   "source": [
    "s2 = ee.ImageCollection('COPERNICUS/S2_SR') \\\n",
    "    .filterBounds(region) \\\n",
    "    .filterDate(start_date, end_date) \\\n",
    "    .filter(ee.Filter.lt('CLOUDY_PIXEL_PERCENTAGE', 20)) \\\n",
    "    .map(addNDVI) \\\n",
    "    .map(maskClouds)\n",
    "\n",
    "# Load crop data\n",
    "#crop_data = pd.read_csv('crop_data.csv')"
   ]
  },
  {
   "cell_type": "code",
   "execution_count": 13,
   "metadata": {},
   "outputs": [],
   "source": [
    "# Join crop data with the Sentinel-2 imagery using the date field\n",
    "def get_image_data(date):\n",
    "    image = s2.filterDate(date, date.advance(1, 'day')).first()\n",
    "    mean_ndvi = image.reduceRegion(reducer=ee.Reducer.mean(), geometry=region, scale=10).get('ndvi').getInfo()\n",
    "    return mean_ndvi"
   ]
  },
  {
   "cell_type": "code",
   "execution_count": null,
   "metadata": {},
   "outputs": [],
   "source": [
    "crop_data['ndvi'] = crop_data['date'].apply(lambda date: get_image_data(ee.Date(date).format('YYYY-MM-dd')))\n",
    "\n",
    "# Calculate loss and add it as a feature\n",
    "crop_data['loss'] = (crop_data['expected_yield'] - crop_data['actual_yield']) / crop_data['expected_yield']\n",
    "crop_data['loss_over_10_percent'] = crop_data['loss'] > 0.1\n",
    "\n",
    "# Export the final data to a CSV file\n",
    "crop_data.to_csv('crop_loss_data.csv', index=False)"
   ]
  }
 ],
 "metadata": {
  "kernelspec": {
   "display_name": "abtest",
   "language": "python",
   "name": "python3"
  },
  "language_info": {
   "codemirror_mode": {
    "name": "ipython",
    "version": 3
   },
   "file_extension": ".py",
   "mimetype": "text/x-python",
   "name": "python",
   "nbconvert_exporter": "python",
   "pygments_lexer": "ipython3",
   "version": "3.9.16"
  },
  "orig_nbformat": 4
 },
 "nbformat": 4,
 "nbformat_minor": 2
}
